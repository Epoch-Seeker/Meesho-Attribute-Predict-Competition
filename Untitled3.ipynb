{
  "nbformat": 4,
  "nbformat_minor": 0,
  "metadata": {
    "colab": {
      "provenance": [],
      "gpuType": "T4"
    },
    "kernelspec": {
      "name": "python3",
      "display_name": "Python 3"
    },
    "language_info": {
      "name": "python"
    },
    "accelerator": "GPU"
  },
  "cells": [
    {
      "cell_type": "code",
      "source": [
        "!mkdir -p ~/.kaggle\n",
        "!cp kaggle.json ~/.kaggle/"
      ],
      "metadata": {
        "id": "LoFq_-04m91b"
      },
      "execution_count": 1,
      "outputs": []
    },
    {
      "cell_type": "code",
      "source": [
        "!kaggle competitions download -c visual-taxonomy"
      ],
      "metadata": {
        "colab": {
          "base_uri": "https://localhost:8080/"
        },
        "id": "LzyJ6uRmneHg",
        "outputId": "d42a1f1c-09e2-42ae-bac6-892e447ab807"
      },
      "execution_count": 2,
      "outputs": [
        {
          "output_type": "stream",
          "name": "stdout",
          "text": [
            "Warning: Your Kaggle API key is readable by other users on this system! To fix this, you can run 'chmod 600 /root/.kaggle/kaggle.json'\n",
            "Downloading visual-taxonomy.zip to /content\n",
            "100% 3.52G/3.52G [03:13<00:00, 21.0MB/s]\n",
            "100% 3.52G/3.52G [03:13<00:00, 19.5MB/s]\n"
          ]
        }
      ]
    },
    {
      "cell_type": "code",
      "source": [
        "import zipfile\n",
        "zip_ref = zipfile.ZipFile('/content/visual-taxonomy.zip', 'r')\n",
        "zip_ref.extractall('/content')\n",
        "zip_ref.close()"
      ],
      "metadata": {
        "id": "skjdGGvsnnUz"
      },
      "execution_count": 3,
      "outputs": []
    },
    {
      "cell_type": "code",
      "source": [
        "import os\n",
        "import cv2\n",
        "import numpy as np\n",
        "import pandas as pd\n",
        "import matplotlib.pyplot as plt\n",
        "import tensorflow as tf\n",
        "from tensorflow import keras\n",
        "from keras.models import Sequential\n",
        "from keras.layers import Conv2D,MaxPooling2D,Flatten,Dense,BatchNormalization,Dropout"
      ],
      "metadata": {
        "id": "rsnEf6dDnu01"
      },
      "execution_count": 4,
      "outputs": []
    },
    {
      "cell_type": "code",
      "source": [
        "df = pd.read_csv('/content/train.csv')\n",
        "df.head()"
      ],
      "metadata": {
        "colab": {
          "base_uri": "https://localhost:8080/",
          "height": 206
        },
        "id": "xkDM30CEnw8t",
        "outputId": "13382003-6cfb-49e6-e32b-02b4e6cae276"
      },
      "execution_count": 5,
      "outputs": [
        {
          "output_type": "execute_result",
          "data": {
            "text/plain": [
              "   id     Category  len      attr_1 attr_2   attr_3   attr_4         attr_5  \\\n",
              "0   0  Men Tshirts    5     default  round  printed  default  short sleeves   \n",
              "1   1  Men Tshirts    5  multicolor   polo    solid    solid  short sleeves   \n",
              "2   2  Men Tshirts    5     default   polo    solid    solid  short sleeves   \n",
              "3   3  Men Tshirts    5  multicolor   polo    solid    solid  short sleeves   \n",
              "4   4  Men Tshirts    5  multicolor   polo    solid    solid  short sleeves   \n",
              "\n",
              "  attr_6 attr_7 attr_8 attr_9 attr_10  \n",
              "0    NaN    NaN    NaN    NaN     NaN  \n",
              "1    NaN    NaN    NaN    NaN     NaN  \n",
              "2    NaN    NaN    NaN    NaN     NaN  \n",
              "3    NaN    NaN    NaN    NaN     NaN  \n",
              "4    NaN    NaN    NaN    NaN     NaN  "
            ],
            "text/html": [
              "\n",
              "  <div id=\"df-d7758f2c-4701-4e25-9609-439e020c2691\" class=\"colab-df-container\">\n",
              "    <div>\n",
              "<style scoped>\n",
              "    .dataframe tbody tr th:only-of-type {\n",
              "        vertical-align: middle;\n",
              "    }\n",
              "\n",
              "    .dataframe tbody tr th {\n",
              "        vertical-align: top;\n",
              "    }\n",
              "\n",
              "    .dataframe thead th {\n",
              "        text-align: right;\n",
              "    }\n",
              "</style>\n",
              "<table border=\"1\" class=\"dataframe\">\n",
              "  <thead>\n",
              "    <tr style=\"text-align: right;\">\n",
              "      <th></th>\n",
              "      <th>id</th>\n",
              "      <th>Category</th>\n",
              "      <th>len</th>\n",
              "      <th>attr_1</th>\n",
              "      <th>attr_2</th>\n",
              "      <th>attr_3</th>\n",
              "      <th>attr_4</th>\n",
              "      <th>attr_5</th>\n",
              "      <th>attr_6</th>\n",
              "      <th>attr_7</th>\n",
              "      <th>attr_8</th>\n",
              "      <th>attr_9</th>\n",
              "      <th>attr_10</th>\n",
              "    </tr>\n",
              "  </thead>\n",
              "  <tbody>\n",
              "    <tr>\n",
              "      <th>0</th>\n",
              "      <td>0</td>\n",
              "      <td>Men Tshirts</td>\n",
              "      <td>5</td>\n",
              "      <td>default</td>\n",
              "      <td>round</td>\n",
              "      <td>printed</td>\n",
              "      <td>default</td>\n",
              "      <td>short sleeves</td>\n",
              "      <td>NaN</td>\n",
              "      <td>NaN</td>\n",
              "      <td>NaN</td>\n",
              "      <td>NaN</td>\n",
              "      <td>NaN</td>\n",
              "    </tr>\n",
              "    <tr>\n",
              "      <th>1</th>\n",
              "      <td>1</td>\n",
              "      <td>Men Tshirts</td>\n",
              "      <td>5</td>\n",
              "      <td>multicolor</td>\n",
              "      <td>polo</td>\n",
              "      <td>solid</td>\n",
              "      <td>solid</td>\n",
              "      <td>short sleeves</td>\n",
              "      <td>NaN</td>\n",
              "      <td>NaN</td>\n",
              "      <td>NaN</td>\n",
              "      <td>NaN</td>\n",
              "      <td>NaN</td>\n",
              "    </tr>\n",
              "    <tr>\n",
              "      <th>2</th>\n",
              "      <td>2</td>\n",
              "      <td>Men Tshirts</td>\n",
              "      <td>5</td>\n",
              "      <td>default</td>\n",
              "      <td>polo</td>\n",
              "      <td>solid</td>\n",
              "      <td>solid</td>\n",
              "      <td>short sleeves</td>\n",
              "      <td>NaN</td>\n",
              "      <td>NaN</td>\n",
              "      <td>NaN</td>\n",
              "      <td>NaN</td>\n",
              "      <td>NaN</td>\n",
              "    </tr>\n",
              "    <tr>\n",
              "      <th>3</th>\n",
              "      <td>3</td>\n",
              "      <td>Men Tshirts</td>\n",
              "      <td>5</td>\n",
              "      <td>multicolor</td>\n",
              "      <td>polo</td>\n",
              "      <td>solid</td>\n",
              "      <td>solid</td>\n",
              "      <td>short sleeves</td>\n",
              "      <td>NaN</td>\n",
              "      <td>NaN</td>\n",
              "      <td>NaN</td>\n",
              "      <td>NaN</td>\n",
              "      <td>NaN</td>\n",
              "    </tr>\n",
              "    <tr>\n",
              "      <th>4</th>\n",
              "      <td>4</td>\n",
              "      <td>Men Tshirts</td>\n",
              "      <td>5</td>\n",
              "      <td>multicolor</td>\n",
              "      <td>polo</td>\n",
              "      <td>solid</td>\n",
              "      <td>solid</td>\n",
              "      <td>short sleeves</td>\n",
              "      <td>NaN</td>\n",
              "      <td>NaN</td>\n",
              "      <td>NaN</td>\n",
              "      <td>NaN</td>\n",
              "      <td>NaN</td>\n",
              "    </tr>\n",
              "  </tbody>\n",
              "</table>\n",
              "</div>\n",
              "    <div class=\"colab-df-buttons\">\n",
              "\n",
              "  <div class=\"colab-df-container\">\n",
              "    <button class=\"colab-df-convert\" onclick=\"convertToInteractive('df-d7758f2c-4701-4e25-9609-439e020c2691')\"\n",
              "            title=\"Convert this dataframe to an interactive table.\"\n",
              "            style=\"display:none;\">\n",
              "\n",
              "  <svg xmlns=\"http://www.w3.org/2000/svg\" height=\"24px\" viewBox=\"0 -960 960 960\">\n",
              "    <path d=\"M120-120v-720h720v720H120Zm60-500h600v-160H180v160Zm220 220h160v-160H400v160Zm0 220h160v-160H400v160ZM180-400h160v-160H180v160Zm440 0h160v-160H620v160ZM180-180h160v-160H180v160Zm440 0h160v-160H620v160Z\"/>\n",
              "  </svg>\n",
              "    </button>\n",
              "\n",
              "  <style>\n",
              "    .colab-df-container {\n",
              "      display:flex;\n",
              "      gap: 12px;\n",
              "    }\n",
              "\n",
              "    .colab-df-convert {\n",
              "      background-color: #E8F0FE;\n",
              "      border: none;\n",
              "      border-radius: 50%;\n",
              "      cursor: pointer;\n",
              "      display: none;\n",
              "      fill: #1967D2;\n",
              "      height: 32px;\n",
              "      padding: 0 0 0 0;\n",
              "      width: 32px;\n",
              "    }\n",
              "\n",
              "    .colab-df-convert:hover {\n",
              "      background-color: #E2EBFA;\n",
              "      box-shadow: 0px 1px 2px rgba(60, 64, 67, 0.3), 0px 1px 3px 1px rgba(60, 64, 67, 0.15);\n",
              "      fill: #174EA6;\n",
              "    }\n",
              "\n",
              "    .colab-df-buttons div {\n",
              "      margin-bottom: 4px;\n",
              "    }\n",
              "\n",
              "    [theme=dark] .colab-df-convert {\n",
              "      background-color: #3B4455;\n",
              "      fill: #D2E3FC;\n",
              "    }\n",
              "\n",
              "    [theme=dark] .colab-df-convert:hover {\n",
              "      background-color: #434B5C;\n",
              "      box-shadow: 0px 1px 3px 1px rgba(0, 0, 0, 0.15);\n",
              "      filter: drop-shadow(0px 1px 2px rgba(0, 0, 0, 0.3));\n",
              "      fill: #FFFFFF;\n",
              "    }\n",
              "  </style>\n",
              "\n",
              "    <script>\n",
              "      const buttonEl =\n",
              "        document.querySelector('#df-d7758f2c-4701-4e25-9609-439e020c2691 button.colab-df-convert');\n",
              "      buttonEl.style.display =\n",
              "        google.colab.kernel.accessAllowed ? 'block' : 'none';\n",
              "\n",
              "      async function convertToInteractive(key) {\n",
              "        const element = document.querySelector('#df-d7758f2c-4701-4e25-9609-439e020c2691');\n",
              "        const dataTable =\n",
              "          await google.colab.kernel.invokeFunction('convertToInteractive',\n",
              "                                                    [key], {});\n",
              "        if (!dataTable) return;\n",
              "\n",
              "        const docLinkHtml = 'Like what you see? Visit the ' +\n",
              "          '<a target=\"_blank\" href=https://colab.research.google.com/notebooks/data_table.ipynb>data table notebook</a>'\n",
              "          + ' to learn more about interactive tables.';\n",
              "        element.innerHTML = '';\n",
              "        dataTable['output_type'] = 'display_data';\n",
              "        await google.colab.output.renderOutput(dataTable, element);\n",
              "        const docLink = document.createElement('div');\n",
              "        docLink.innerHTML = docLinkHtml;\n",
              "        element.appendChild(docLink);\n",
              "      }\n",
              "    </script>\n",
              "  </div>\n",
              "\n",
              "\n",
              "<div id=\"df-7a78624b-00ce-46e7-be65-5dfc9642a39f\">\n",
              "  <button class=\"colab-df-quickchart\" onclick=\"quickchart('df-7a78624b-00ce-46e7-be65-5dfc9642a39f')\"\n",
              "            title=\"Suggest charts\"\n",
              "            style=\"display:none;\">\n",
              "\n",
              "<svg xmlns=\"http://www.w3.org/2000/svg\" height=\"24px\"viewBox=\"0 0 24 24\"\n",
              "     width=\"24px\">\n",
              "    <g>\n",
              "        <path d=\"M19 3H5c-1.1 0-2 .9-2 2v14c0 1.1.9 2 2 2h14c1.1 0 2-.9 2-2V5c0-1.1-.9-2-2-2zM9 17H7v-7h2v7zm4 0h-2V7h2v10zm4 0h-2v-4h2v4z\"/>\n",
              "    </g>\n",
              "</svg>\n",
              "  </button>\n",
              "\n",
              "<style>\n",
              "  .colab-df-quickchart {\n",
              "      --bg-color: #E8F0FE;\n",
              "      --fill-color: #1967D2;\n",
              "      --hover-bg-color: #E2EBFA;\n",
              "      --hover-fill-color: #174EA6;\n",
              "      --disabled-fill-color: #AAA;\n",
              "      --disabled-bg-color: #DDD;\n",
              "  }\n",
              "\n",
              "  [theme=dark] .colab-df-quickchart {\n",
              "      --bg-color: #3B4455;\n",
              "      --fill-color: #D2E3FC;\n",
              "      --hover-bg-color: #434B5C;\n",
              "      --hover-fill-color: #FFFFFF;\n",
              "      --disabled-bg-color: #3B4455;\n",
              "      --disabled-fill-color: #666;\n",
              "  }\n",
              "\n",
              "  .colab-df-quickchart {\n",
              "    background-color: var(--bg-color);\n",
              "    border: none;\n",
              "    border-radius: 50%;\n",
              "    cursor: pointer;\n",
              "    display: none;\n",
              "    fill: var(--fill-color);\n",
              "    height: 32px;\n",
              "    padding: 0;\n",
              "    width: 32px;\n",
              "  }\n",
              "\n",
              "  .colab-df-quickchart:hover {\n",
              "    background-color: var(--hover-bg-color);\n",
              "    box-shadow: 0 1px 2px rgba(60, 64, 67, 0.3), 0 1px 3px 1px rgba(60, 64, 67, 0.15);\n",
              "    fill: var(--button-hover-fill-color);\n",
              "  }\n",
              "\n",
              "  .colab-df-quickchart-complete:disabled,\n",
              "  .colab-df-quickchart-complete:disabled:hover {\n",
              "    background-color: var(--disabled-bg-color);\n",
              "    fill: var(--disabled-fill-color);\n",
              "    box-shadow: none;\n",
              "  }\n",
              "\n",
              "  .colab-df-spinner {\n",
              "    border: 2px solid var(--fill-color);\n",
              "    border-color: transparent;\n",
              "    border-bottom-color: var(--fill-color);\n",
              "    animation:\n",
              "      spin 1s steps(1) infinite;\n",
              "  }\n",
              "\n",
              "  @keyframes spin {\n",
              "    0% {\n",
              "      border-color: transparent;\n",
              "      border-bottom-color: var(--fill-color);\n",
              "      border-left-color: var(--fill-color);\n",
              "    }\n",
              "    20% {\n",
              "      border-color: transparent;\n",
              "      border-left-color: var(--fill-color);\n",
              "      border-top-color: var(--fill-color);\n",
              "    }\n",
              "    30% {\n",
              "      border-color: transparent;\n",
              "      border-left-color: var(--fill-color);\n",
              "      border-top-color: var(--fill-color);\n",
              "      border-right-color: var(--fill-color);\n",
              "    }\n",
              "    40% {\n",
              "      border-color: transparent;\n",
              "      border-right-color: var(--fill-color);\n",
              "      border-top-color: var(--fill-color);\n",
              "    }\n",
              "    60% {\n",
              "      border-color: transparent;\n",
              "      border-right-color: var(--fill-color);\n",
              "    }\n",
              "    80% {\n",
              "      border-color: transparent;\n",
              "      border-right-color: var(--fill-color);\n",
              "      border-bottom-color: var(--fill-color);\n",
              "    }\n",
              "    90% {\n",
              "      border-color: transparent;\n",
              "      border-bottom-color: var(--fill-color);\n",
              "    }\n",
              "  }\n",
              "</style>\n",
              "\n",
              "  <script>\n",
              "    async function quickchart(key) {\n",
              "      const quickchartButtonEl =\n",
              "        document.querySelector('#' + key + ' button');\n",
              "      quickchartButtonEl.disabled = true;  // To prevent multiple clicks.\n",
              "      quickchartButtonEl.classList.add('colab-df-spinner');\n",
              "      try {\n",
              "        const charts = await google.colab.kernel.invokeFunction(\n",
              "            'suggestCharts', [key], {});\n",
              "      } catch (error) {\n",
              "        console.error('Error during call to suggestCharts:', error);\n",
              "      }\n",
              "      quickchartButtonEl.classList.remove('colab-df-spinner');\n",
              "      quickchartButtonEl.classList.add('colab-df-quickchart-complete');\n",
              "    }\n",
              "    (() => {\n",
              "      let quickchartButtonEl =\n",
              "        document.querySelector('#df-7a78624b-00ce-46e7-be65-5dfc9642a39f button');\n",
              "      quickchartButtonEl.style.display =\n",
              "        google.colab.kernel.accessAllowed ? 'block' : 'none';\n",
              "    })();\n",
              "  </script>\n",
              "</div>\n",
              "\n",
              "    </div>\n",
              "  </div>\n"
            ],
            "application/vnd.google.colaboratory.intrinsic+json": {
              "type": "dataframe",
              "variable_name": "df",
              "summary": "{\n  \"name\": \"df\",\n  \"rows\": 70213,\n  \"fields\": [\n    {\n      \"column\": \"id\",\n      \"properties\": {\n        \"dtype\": \"number\",\n        \"std\": 20295,\n        \"min\": 0,\n        \"max\": 70378,\n        \"num_unique_values\": 70213,\n        \"samples\": [\n          50469,\n          65846,\n          35516\n        ],\n        \"semantic_type\": \"\",\n        \"description\": \"\"\n      }\n    },\n    {\n      \"column\": \"Category\",\n      \"properties\": {\n        \"dtype\": \"category\",\n        \"num_unique_values\": 5,\n        \"samples\": [\n          \"Sarees\",\n          \"Women Tops & Tunics\",\n          \"Kurtis\"\n        ],\n        \"semantic_type\": \"\",\n        \"description\": \"\"\n      }\n    },\n    {\n      \"column\": \"len\",\n      \"properties\": {\n        \"dtype\": \"number\",\n        \"std\": 1,\n        \"min\": 5,\n        \"max\": 10,\n        \"num_unique_values\": 4,\n        \"samples\": [\n          10,\n          8,\n          5\n        ],\n        \"semantic_type\": \"\",\n        \"description\": \"\"\n      }\n    },\n    {\n      \"column\": \"attr_1\",\n      \"properties\": {\n        \"dtype\": \"category\",\n        \"num_unique_values\": 18,\n        \"samples\": [\n          \"default\",\n          \"multicolor\",\n          \"navy blue\"\n        ],\n        \"semantic_type\": \"\",\n        \"description\": \"\"\n      }\n    },\n    {\n      \"column\": \"attr_2\",\n      \"properties\": {\n        \"dtype\": \"category\",\n        \"num_unique_values\": 14,\n        \"samples\": [\n          \"a-line\",\n          \"boxy\",\n          \"round\"\n        ],\n        \"semantic_type\": \"\",\n        \"description\": \"\"\n      }\n    },\n    {\n      \"column\": \"attr_3\",\n      \"properties\": {\n        \"dtype\": \"category\",\n        \"num_unique_values\": 10,\n        \"samples\": [\n          \"crop\",\n          \"solid\",\n          \"knee length\"\n        ],\n        \"semantic_type\": \"\",\n        \"description\": \"\"\n      }\n    },\n    {\n      \"column\": \"attr_4\",\n      \"properties\": {\n        \"dtype\": \"category\",\n        \"num_unique_values\": 19,\n        \"samples\": [\n          \"default\",\n          \"white\",\n          \"party\"\n        ],\n        \"semantic_type\": \"\",\n        \"description\": \"\"\n      }\n    },\n    {\n      \"column\": \"attr_5\",\n      \"properties\": {\n        \"dtype\": \"category\",\n        \"num_unique_values\": 14,\n        \"samples\": [\n          \"solid\",\n          \"funky print\",\n          \"short sleeves\"\n        ],\n        \"semantic_type\": \"\",\n        \"description\": \"\"\n      }\n    },\n    {\n      \"column\": \"attr_6\",\n      \"properties\": {\n        \"dtype\": \"category\",\n        \"num_unique_values\": 7,\n        \"samples\": [\n          \"jacquard\",\n          \"default\",\n          \"short sleeves\"\n        ],\n        \"semantic_type\": \"\",\n        \"description\": \"\"\n      }\n    },\n    {\n      \"column\": \"attr_7\",\n      \"properties\": {\n        \"dtype\": \"category\",\n        \"num_unique_values\": 11,\n        \"samples\": [\n          \"regular sleeves\",\n          \"woven design\",\n          \"quirky\"\n        ],\n        \"semantic_type\": \"\",\n        \"description\": \"\"\n      }\n    },\n    {\n      \"column\": \"attr_8\",\n      \"properties\": {\n        \"dtype\": \"category\",\n        \"num_unique_values\": 10,\n        \"samples\": [\n          \"applique\",\n          \"woven design\",\n          \"three-quarter sleeves\"\n        ],\n        \"semantic_type\": \"\",\n        \"description\": \"\"\n      }\n    },\n    {\n      \"column\": \"attr_9\",\n      \"properties\": {\n        \"dtype\": \"category\",\n        \"num_unique_values\": 13,\n        \"samples\": [\n          \"regular sleeves\",\n          \"regular\",\n          \"applique\"\n        ],\n        \"semantic_type\": \"\",\n        \"description\": \"\"\n      }\n    },\n    {\n      \"column\": \"attr_10\",\n      \"properties\": {\n        \"dtype\": \"category\",\n        \"num_unique_values\": 8,\n        \"samples\": [\n          \"yes\",\n          \"waist tie-ups\",\n          \"no\"\n        ],\n        \"semantic_type\": \"\",\n        \"description\": \"\"\n      }\n    }\n  ]\n}"
            }
          },
          "metadata": {},
          "execution_count": 5
        }
      ]
    },
    {
      "cell_type": "code",
      "source": [
        "df['Category'].unique()"
      ],
      "metadata": {
        "colab": {
          "base_uri": "https://localhost:8080/"
        },
        "id": "Rwztrofbnzbc",
        "outputId": "38b98543-2fb5-4fac-d6a1-dc4dde2b5b88"
      },
      "execution_count": 6,
      "outputs": [
        {
          "output_type": "execute_result",
          "data": {
            "text/plain": [
              "array(['Men Tshirts', 'Sarees', 'Kurtis', 'Women Tshirts',\n",
              "       'Women Tops & Tunics'], dtype=object)"
            ]
          },
          "metadata": {},
          "execution_count": 6
        }
      ]
    },
    {
      "cell_type": "code",
      "source": [
        "# Define the categories\n",
        "categories = ['Men Tshirts', 'Sarees', 'Kurtis', 'Women Tshirts', 'Women Tops & Tunics']\n",
        "\n",
        "# Loop through each category, filter rows, and save to a new CSV file\n",
        "for category in categories:\n",
        "    filtered_df = df[df['Category'] == category]\n",
        "    filename = category.replace(\" \", \"_\").replace(\"&\", \"and\").lower() + '.csv'  # Format filename\n",
        "    filtered_df.to_csv(filename, index=False)\n",
        "    print(f\"Saved {filename} with {len(filtered_df)} rows.\")\n"
      ],
      "metadata": {
        "colab": {
          "base_uri": "https://localhost:8080/"
        },
        "id": "504SJv1Hn3Mk",
        "outputId": "723678aa-6927-48b9-c907-ff1db376f631"
      },
      "execution_count": 7,
      "outputs": [
        {
          "output_type": "stream",
          "name": "stdout",
          "text": [
            "Saved men_tshirts.csv with 7267 rows.\n",
            "Saved sarees.csv with 18346 rows.\n",
            "Saved kurtis.csv with 6822 rows.\n",
            "Saved women_tshirts.csv with 18774 rows.\n",
            "Saved women_tops_and_tunics.csv with 19004 rows.\n"
          ]
        }
      ]
    },
    {
      "cell_type": "code",
      "execution_count": 10,
      "metadata": {
        "id": "8UhYv4RseKVZ",
        "colab": {
          "base_uri": "https://localhost:8080/",
          "height": 206
        },
        "outputId": "3d3a8b63-f62c-49d4-bc43-789373256f92"
      },
      "outputs": [
        {
          "output_type": "execute_result",
          "data": {
            "text/plain": [
              "   id     Category  len      attr_1 attr_2   attr_3   attr_4         attr_5  \\\n",
              "0   0  Men Tshirts    5     default  round  printed  default  short sleeves   \n",
              "1   1  Men Tshirts    5  multicolor   polo    solid    solid  short sleeves   \n",
              "2   2  Men Tshirts    5     default   polo    solid    solid  short sleeves   \n",
              "3   3  Men Tshirts    5  multicolor   polo    solid    solid  short sleeves   \n",
              "4   4  Men Tshirts    5  multicolor   polo    solid    solid  short sleeves   \n",
              "\n",
              "   attr_6  attr_7  attr_8  attr_9  attr_10  \n",
              "0     NaN     NaN     NaN     NaN      NaN  \n",
              "1     NaN     NaN     NaN     NaN      NaN  \n",
              "2     NaN     NaN     NaN     NaN      NaN  \n",
              "3     NaN     NaN     NaN     NaN      NaN  \n",
              "4     NaN     NaN     NaN     NaN      NaN  "
            ],
            "text/html": [
              "\n",
              "  <div id=\"df-f5876c2d-d915-4a20-9e69-d5352bdea2b7\" class=\"colab-df-container\">\n",
              "    <div>\n",
              "<style scoped>\n",
              "    .dataframe tbody tr th:only-of-type {\n",
              "        vertical-align: middle;\n",
              "    }\n",
              "\n",
              "    .dataframe tbody tr th {\n",
              "        vertical-align: top;\n",
              "    }\n",
              "\n",
              "    .dataframe thead th {\n",
              "        text-align: right;\n",
              "    }\n",
              "</style>\n",
              "<table border=\"1\" class=\"dataframe\">\n",
              "  <thead>\n",
              "    <tr style=\"text-align: right;\">\n",
              "      <th></th>\n",
              "      <th>id</th>\n",
              "      <th>Category</th>\n",
              "      <th>len</th>\n",
              "      <th>attr_1</th>\n",
              "      <th>attr_2</th>\n",
              "      <th>attr_3</th>\n",
              "      <th>attr_4</th>\n",
              "      <th>attr_5</th>\n",
              "      <th>attr_6</th>\n",
              "      <th>attr_7</th>\n",
              "      <th>attr_8</th>\n",
              "      <th>attr_9</th>\n",
              "      <th>attr_10</th>\n",
              "    </tr>\n",
              "  </thead>\n",
              "  <tbody>\n",
              "    <tr>\n",
              "      <th>0</th>\n",
              "      <td>0</td>\n",
              "      <td>Men Tshirts</td>\n",
              "      <td>5</td>\n",
              "      <td>default</td>\n",
              "      <td>round</td>\n",
              "      <td>printed</td>\n",
              "      <td>default</td>\n",
              "      <td>short sleeves</td>\n",
              "      <td>NaN</td>\n",
              "      <td>NaN</td>\n",
              "      <td>NaN</td>\n",
              "      <td>NaN</td>\n",
              "      <td>NaN</td>\n",
              "    </tr>\n",
              "    <tr>\n",
              "      <th>1</th>\n",
              "      <td>1</td>\n",
              "      <td>Men Tshirts</td>\n",
              "      <td>5</td>\n",
              "      <td>multicolor</td>\n",
              "      <td>polo</td>\n",
              "      <td>solid</td>\n",
              "      <td>solid</td>\n",
              "      <td>short sleeves</td>\n",
              "      <td>NaN</td>\n",
              "      <td>NaN</td>\n",
              "      <td>NaN</td>\n",
              "      <td>NaN</td>\n",
              "      <td>NaN</td>\n",
              "    </tr>\n",
              "    <tr>\n",
              "      <th>2</th>\n",
              "      <td>2</td>\n",
              "      <td>Men Tshirts</td>\n",
              "      <td>5</td>\n",
              "      <td>default</td>\n",
              "      <td>polo</td>\n",
              "      <td>solid</td>\n",
              "      <td>solid</td>\n",
              "      <td>short sleeves</td>\n",
              "      <td>NaN</td>\n",
              "      <td>NaN</td>\n",
              "      <td>NaN</td>\n",
              "      <td>NaN</td>\n",
              "      <td>NaN</td>\n",
              "    </tr>\n",
              "    <tr>\n",
              "      <th>3</th>\n",
              "      <td>3</td>\n",
              "      <td>Men Tshirts</td>\n",
              "      <td>5</td>\n",
              "      <td>multicolor</td>\n",
              "      <td>polo</td>\n",
              "      <td>solid</td>\n",
              "      <td>solid</td>\n",
              "      <td>short sleeves</td>\n",
              "      <td>NaN</td>\n",
              "      <td>NaN</td>\n",
              "      <td>NaN</td>\n",
              "      <td>NaN</td>\n",
              "      <td>NaN</td>\n",
              "    </tr>\n",
              "    <tr>\n",
              "      <th>4</th>\n",
              "      <td>4</td>\n",
              "      <td>Men Tshirts</td>\n",
              "      <td>5</td>\n",
              "      <td>multicolor</td>\n",
              "      <td>polo</td>\n",
              "      <td>solid</td>\n",
              "      <td>solid</td>\n",
              "      <td>short sleeves</td>\n",
              "      <td>NaN</td>\n",
              "      <td>NaN</td>\n",
              "      <td>NaN</td>\n",
              "      <td>NaN</td>\n",
              "      <td>NaN</td>\n",
              "    </tr>\n",
              "  </tbody>\n",
              "</table>\n",
              "</div>\n",
              "    <div class=\"colab-df-buttons\">\n",
              "\n",
              "  <div class=\"colab-df-container\">\n",
              "    <button class=\"colab-df-convert\" onclick=\"convertToInteractive('df-f5876c2d-d915-4a20-9e69-d5352bdea2b7')\"\n",
              "            title=\"Convert this dataframe to an interactive table.\"\n",
              "            style=\"display:none;\">\n",
              "\n",
              "  <svg xmlns=\"http://www.w3.org/2000/svg\" height=\"24px\" viewBox=\"0 -960 960 960\">\n",
              "    <path d=\"M120-120v-720h720v720H120Zm60-500h600v-160H180v160Zm220 220h160v-160H400v160Zm0 220h160v-160H400v160ZM180-400h160v-160H180v160Zm440 0h160v-160H620v160ZM180-180h160v-160H180v160Zm440 0h160v-160H620v160Z\"/>\n",
              "  </svg>\n",
              "    </button>\n",
              "\n",
              "  <style>\n",
              "    .colab-df-container {\n",
              "      display:flex;\n",
              "      gap: 12px;\n",
              "    }\n",
              "\n",
              "    .colab-df-convert {\n",
              "      background-color: #E8F0FE;\n",
              "      border: none;\n",
              "      border-radius: 50%;\n",
              "      cursor: pointer;\n",
              "      display: none;\n",
              "      fill: #1967D2;\n",
              "      height: 32px;\n",
              "      padding: 0 0 0 0;\n",
              "      width: 32px;\n",
              "    }\n",
              "\n",
              "    .colab-df-convert:hover {\n",
              "      background-color: #E2EBFA;\n",
              "      box-shadow: 0px 1px 2px rgba(60, 64, 67, 0.3), 0px 1px 3px 1px rgba(60, 64, 67, 0.15);\n",
              "      fill: #174EA6;\n",
              "    }\n",
              "\n",
              "    .colab-df-buttons div {\n",
              "      margin-bottom: 4px;\n",
              "    }\n",
              "\n",
              "    [theme=dark] .colab-df-convert {\n",
              "      background-color: #3B4455;\n",
              "      fill: #D2E3FC;\n",
              "    }\n",
              "\n",
              "    [theme=dark] .colab-df-convert:hover {\n",
              "      background-color: #434B5C;\n",
              "      box-shadow: 0px 1px 3px 1px rgba(0, 0, 0, 0.15);\n",
              "      filter: drop-shadow(0px 1px 2px rgba(0, 0, 0, 0.3));\n",
              "      fill: #FFFFFF;\n",
              "    }\n",
              "  </style>\n",
              "\n",
              "    <script>\n",
              "      const buttonEl =\n",
              "        document.querySelector('#df-f5876c2d-d915-4a20-9e69-d5352bdea2b7 button.colab-df-convert');\n",
              "      buttonEl.style.display =\n",
              "        google.colab.kernel.accessAllowed ? 'block' : 'none';\n",
              "\n",
              "      async function convertToInteractive(key) {\n",
              "        const element = document.querySelector('#df-f5876c2d-d915-4a20-9e69-d5352bdea2b7');\n",
              "        const dataTable =\n",
              "          await google.colab.kernel.invokeFunction('convertToInteractive',\n",
              "                                                    [key], {});\n",
              "        if (!dataTable) return;\n",
              "\n",
              "        const docLinkHtml = 'Like what you see? Visit the ' +\n",
              "          '<a target=\"_blank\" href=https://colab.research.google.com/notebooks/data_table.ipynb>data table notebook</a>'\n",
              "          + ' to learn more about interactive tables.';\n",
              "        element.innerHTML = '';\n",
              "        dataTable['output_type'] = 'display_data';\n",
              "        await google.colab.output.renderOutput(dataTable, element);\n",
              "        const docLink = document.createElement('div');\n",
              "        docLink.innerHTML = docLinkHtml;\n",
              "        element.appendChild(docLink);\n",
              "      }\n",
              "    </script>\n",
              "  </div>\n",
              "\n",
              "\n",
              "<div id=\"df-39ce3adc-6300-4c08-887f-a0d1da112e88\">\n",
              "  <button class=\"colab-df-quickchart\" onclick=\"quickchart('df-39ce3adc-6300-4c08-887f-a0d1da112e88')\"\n",
              "            title=\"Suggest charts\"\n",
              "            style=\"display:none;\">\n",
              "\n",
              "<svg xmlns=\"http://www.w3.org/2000/svg\" height=\"24px\"viewBox=\"0 0 24 24\"\n",
              "     width=\"24px\">\n",
              "    <g>\n",
              "        <path d=\"M19 3H5c-1.1 0-2 .9-2 2v14c0 1.1.9 2 2 2h14c1.1 0 2-.9 2-2V5c0-1.1-.9-2-2-2zM9 17H7v-7h2v7zm4 0h-2V7h2v10zm4 0h-2v-4h2v4z\"/>\n",
              "    </g>\n",
              "</svg>\n",
              "  </button>\n",
              "\n",
              "<style>\n",
              "  .colab-df-quickchart {\n",
              "      --bg-color: #E8F0FE;\n",
              "      --fill-color: #1967D2;\n",
              "      --hover-bg-color: #E2EBFA;\n",
              "      --hover-fill-color: #174EA6;\n",
              "      --disabled-fill-color: #AAA;\n",
              "      --disabled-bg-color: #DDD;\n",
              "  }\n",
              "\n",
              "  [theme=dark] .colab-df-quickchart {\n",
              "      --bg-color: #3B4455;\n",
              "      --fill-color: #D2E3FC;\n",
              "      --hover-bg-color: #434B5C;\n",
              "      --hover-fill-color: #FFFFFF;\n",
              "      --disabled-bg-color: #3B4455;\n",
              "      --disabled-fill-color: #666;\n",
              "  }\n",
              "\n",
              "  .colab-df-quickchart {\n",
              "    background-color: var(--bg-color);\n",
              "    border: none;\n",
              "    border-radius: 50%;\n",
              "    cursor: pointer;\n",
              "    display: none;\n",
              "    fill: var(--fill-color);\n",
              "    height: 32px;\n",
              "    padding: 0;\n",
              "    width: 32px;\n",
              "  }\n",
              "\n",
              "  .colab-df-quickchart:hover {\n",
              "    background-color: var(--hover-bg-color);\n",
              "    box-shadow: 0 1px 2px rgba(60, 64, 67, 0.3), 0 1px 3px 1px rgba(60, 64, 67, 0.15);\n",
              "    fill: var(--button-hover-fill-color);\n",
              "  }\n",
              "\n",
              "  .colab-df-quickchart-complete:disabled,\n",
              "  .colab-df-quickchart-complete:disabled:hover {\n",
              "    background-color: var(--disabled-bg-color);\n",
              "    fill: var(--disabled-fill-color);\n",
              "    box-shadow: none;\n",
              "  }\n",
              "\n",
              "  .colab-df-spinner {\n",
              "    border: 2px solid var(--fill-color);\n",
              "    border-color: transparent;\n",
              "    border-bottom-color: var(--fill-color);\n",
              "    animation:\n",
              "      spin 1s steps(1) infinite;\n",
              "  }\n",
              "\n",
              "  @keyframes spin {\n",
              "    0% {\n",
              "      border-color: transparent;\n",
              "      border-bottom-color: var(--fill-color);\n",
              "      border-left-color: var(--fill-color);\n",
              "    }\n",
              "    20% {\n",
              "      border-color: transparent;\n",
              "      border-left-color: var(--fill-color);\n",
              "      border-top-color: var(--fill-color);\n",
              "    }\n",
              "    30% {\n",
              "      border-color: transparent;\n",
              "      border-left-color: var(--fill-color);\n",
              "      border-top-color: var(--fill-color);\n",
              "      border-right-color: var(--fill-color);\n",
              "    }\n",
              "    40% {\n",
              "      border-color: transparent;\n",
              "      border-right-color: var(--fill-color);\n",
              "      border-top-color: var(--fill-color);\n",
              "    }\n",
              "    60% {\n",
              "      border-color: transparent;\n",
              "      border-right-color: var(--fill-color);\n",
              "    }\n",
              "    80% {\n",
              "      border-color: transparent;\n",
              "      border-right-color: var(--fill-color);\n",
              "      border-bottom-color: var(--fill-color);\n",
              "    }\n",
              "    90% {\n",
              "      border-color: transparent;\n",
              "      border-bottom-color: var(--fill-color);\n",
              "    }\n",
              "  }\n",
              "</style>\n",
              "\n",
              "  <script>\n",
              "    async function quickchart(key) {\n",
              "      const quickchartButtonEl =\n",
              "        document.querySelector('#' + key + ' button');\n",
              "      quickchartButtonEl.disabled = true;  // To prevent multiple clicks.\n",
              "      quickchartButtonEl.classList.add('colab-df-spinner');\n",
              "      try {\n",
              "        const charts = await google.colab.kernel.invokeFunction(\n",
              "            'suggestCharts', [key], {});\n",
              "      } catch (error) {\n",
              "        console.error('Error during call to suggestCharts:', error);\n",
              "      }\n",
              "      quickchartButtonEl.classList.remove('colab-df-spinner');\n",
              "      quickchartButtonEl.classList.add('colab-df-quickchart-complete');\n",
              "    }\n",
              "    (() => {\n",
              "      let quickchartButtonEl =\n",
              "        document.querySelector('#df-39ce3adc-6300-4c08-887f-a0d1da112e88 button');\n",
              "      quickchartButtonEl.style.display =\n",
              "        google.colab.kernel.accessAllowed ? 'block' : 'none';\n",
              "    })();\n",
              "  </script>\n",
              "</div>\n",
              "\n",
              "    </div>\n",
              "  </div>\n"
            ],
            "application/vnd.google.colaboratory.intrinsic+json": {
              "type": "dataframe",
              "variable_name": "tshirt",
              "summary": "{\n  \"name\": \"tshirt\",\n  \"rows\": 7267,\n  \"fields\": [\n    {\n      \"column\": \"id\",\n      \"properties\": {\n        \"dtype\": \"number\",\n        \"std\": 2106,\n        \"min\": 0,\n        \"max\": 7430,\n        \"num_unique_values\": 7267,\n        \"samples\": [\n          1414,\n          4610,\n          2862\n        ],\n        \"semantic_type\": \"\",\n        \"description\": \"\"\n      }\n    },\n    {\n      \"column\": \"Category\",\n      \"properties\": {\n        \"dtype\": \"category\",\n        \"num_unique_values\": 1,\n        \"samples\": [\n          \"Men Tshirts\"\n        ],\n        \"semantic_type\": \"\",\n        \"description\": \"\"\n      }\n    },\n    {\n      \"column\": \"len\",\n      \"properties\": {\n        \"dtype\": \"number\",\n        \"std\": 0,\n        \"min\": 5,\n        \"max\": 5,\n        \"num_unique_values\": 1,\n        \"samples\": [\n          5\n        ],\n        \"semantic_type\": \"\",\n        \"description\": \"\"\n      }\n    },\n    {\n      \"column\": \"attr_1\",\n      \"properties\": {\n        \"dtype\": \"category\",\n        \"num_unique_values\": 4,\n        \"samples\": [\n          \"multicolor\"\n        ],\n        \"semantic_type\": \"\",\n        \"description\": \"\"\n      }\n    },\n    {\n      \"column\": \"attr_2\",\n      \"properties\": {\n        \"dtype\": \"category\",\n        \"num_unique_values\": 2,\n        \"samples\": [\n          \"polo\"\n        ],\n        \"semantic_type\": \"\",\n        \"description\": \"\"\n      }\n    },\n    {\n      \"column\": \"attr_3\",\n      \"properties\": {\n        \"dtype\": \"category\",\n        \"num_unique_values\": 2,\n        \"samples\": [\n          \"solid\"\n        ],\n        \"semantic_type\": \"\",\n        \"description\": \"\"\n      }\n    },\n    {\n      \"column\": \"attr_4\",\n      \"properties\": {\n        \"dtype\": \"category\",\n        \"num_unique_values\": 3,\n        \"samples\": [\n          \"default\"\n        ],\n        \"semantic_type\": \"\",\n        \"description\": \"\"\n      }\n    },\n    {\n      \"column\": \"attr_5\",\n      \"properties\": {\n        \"dtype\": \"category\",\n        \"num_unique_values\": 2,\n        \"samples\": [\n          \"long sleeves\"\n        ],\n        \"semantic_type\": \"\",\n        \"description\": \"\"\n      }\n    },\n    {\n      \"column\": \"attr_6\",\n      \"properties\": {\n        \"dtype\": \"number\",\n        \"std\": null,\n        \"min\": null,\n        \"max\": null,\n        \"num_unique_values\": 0,\n        \"samples\": [],\n        \"semantic_type\": \"\",\n        \"description\": \"\"\n      }\n    },\n    {\n      \"column\": \"attr_7\",\n      \"properties\": {\n        \"dtype\": \"number\",\n        \"std\": null,\n        \"min\": null,\n        \"max\": null,\n        \"num_unique_values\": 0,\n        \"samples\": [],\n        \"semantic_type\": \"\",\n        \"description\": \"\"\n      }\n    },\n    {\n      \"column\": \"attr_8\",\n      \"properties\": {\n        \"dtype\": \"number\",\n        \"std\": null,\n        \"min\": null,\n        \"max\": null,\n        \"num_unique_values\": 0,\n        \"samples\": [],\n        \"semantic_type\": \"\",\n        \"description\": \"\"\n      }\n    },\n    {\n      \"column\": \"attr_9\",\n      \"properties\": {\n        \"dtype\": \"number\",\n        \"std\": null,\n        \"min\": null,\n        \"max\": null,\n        \"num_unique_values\": 0,\n        \"samples\": [],\n        \"semantic_type\": \"\",\n        \"description\": \"\"\n      }\n    },\n    {\n      \"column\": \"attr_10\",\n      \"properties\": {\n        \"dtype\": \"number\",\n        \"std\": null,\n        \"min\": null,\n        \"max\": null,\n        \"num_unique_values\": 0,\n        \"samples\": [],\n        \"semantic_type\": \"\",\n        \"description\": \"\"\n      }\n    }\n  ]\n}"
            }
          },
          "metadata": {},
          "execution_count": 10
        }
      ],
      "source": [
        "tshirt = pd.read_csv('/content/men_tshirts.csv')#change directory as per your convenience\n",
        "tshirt.head()"
      ]
    },
    {
      "cell_type": "code",
      "source": [
        "tshirt.info()"
      ],
      "metadata": {
        "id": "3VBU2iXRkEcP",
        "colab": {
          "base_uri": "https://localhost:8080/"
        },
        "outputId": "8fee7cc5-5b0e-4312-9750-0dbc5ba2aa37"
      },
      "execution_count": 11,
      "outputs": [
        {
          "output_type": "stream",
          "name": "stdout",
          "text": [
            "<class 'pandas.core.frame.DataFrame'>\n",
            "RangeIndex: 7267 entries, 0 to 7266\n",
            "Data columns (total 13 columns):\n",
            " #   Column    Non-Null Count  Dtype  \n",
            "---  ------    --------------  -----  \n",
            " 0   id        7267 non-null   int64  \n",
            " 1   Category  7267 non-null   object \n",
            " 2   len       7267 non-null   int64  \n",
            " 3   attr_1    6010 non-null   object \n",
            " 4   attr_2    6144 non-null   object \n",
            " 5   attr_3    5791 non-null   object \n",
            " 6   attr_4    5949 non-null   object \n",
            " 7   attr_5    5977 non-null   object \n",
            " 8   attr_6    0 non-null      float64\n",
            " 9   attr_7    0 non-null      float64\n",
            " 10  attr_8    0 non-null      float64\n",
            " 11  attr_9    0 non-null      float64\n",
            " 12  attr_10   0 non-null      float64\n",
            "dtypes: float64(5), int64(2), object(6)\n",
            "memory usage: 738.2+ KB\n"
          ]
        }
      ]
    },
    {
      "cell_type": "code",
      "source": [
        "for i in tshirt.columns:\n",
        "  print(len(tshirt[i].unique()),tshirt[i].unique())"
      ],
      "metadata": {
        "id": "lRhOLAemkPyL",
        "colab": {
          "base_uri": "https://localhost:8080/"
        },
        "outputId": "eba44c5e-6c03-4198-d9d2-3fb4b613f614"
      },
      "execution_count": 12,
      "outputs": [
        {
          "output_type": "stream",
          "name": "stdout",
          "text": [
            "7267 [   0    1    2 ... 7426 7429 7430]\n",
            "1 ['Men Tshirts']\n",
            "1 [5]\n",
            "5 ['default' 'multicolor' 'black' 'white' nan]\n",
            "3 ['round' 'polo' nan]\n",
            "3 ['printed' 'solid' nan]\n",
            "4 ['default' 'solid' nan 'typography']\n",
            "3 ['short sleeves' 'long sleeves' nan]\n",
            "1 [nan]\n",
            "1 [nan]\n",
            "1 [nan]\n",
            "1 [nan]\n",
            "1 [nan]\n"
          ]
        }
      ]
    },
    {
      "cell_type": "code",
      "source": [
        "column_to_drop = ['len','attr_6','attr_7','attr_8','attr_9','attr_10']\n",
        "tshirt = tshirt.drop(column_to_drop, axis=1)"
      ],
      "metadata": {
        "id": "9d4xWjoYkTR0"
      },
      "execution_count": 13,
      "outputs": []
    },
    {
      "cell_type": "code",
      "source": [
        "import seaborn as sns"
      ],
      "metadata": {
        "id": "oXSLxrpIl2FD"
      },
      "execution_count": 14,
      "outputs": []
    },
    {
      "cell_type": "code",
      "source": [
        "for i in tshirt.columns:\n",
        "  if (i!='id') and (i!='Category'):\n",
        "    tshirt[i].value_counts().plot(kind='bar')\n",
        "    plt.show()"
      ],
      "metadata": {
        "id": "q_4cJj-8l4Qs",
        "colab": {
          "base_uri": "https://localhost:8080/",
          "height": 1000
        },
        "outputId": "a163daf7-194a-4fb4-e922-031c31a7c763"
      },
      "execution_count": 15,
      "outputs": [
        {
          "output_type": "display_data",
          "data": {
            "text/plain": [
              "<Figure size 640x480 with 1 Axes>"
            ],
            "image/png": "[encoded data removed]"
          },
          "metadata": {}
        },
        {
          "output_type": "display_data",
          "data": {
            "text/plain": [
              "<Figure size 640x480 with 1 Axes>"
            ],
            "image/png": "[encoded data removed]"
          },
          "metadata": {}
        },
        {
          "output_type": "display_data",
          "data": {
            "text/plain": [
              "<Figure size 640x480 with 1 Axes>"
            ],
            "image/png": "[encoded data removed]"
          },
          "metadata": {}
        },
        {
          "output_type": "display_data",
          "data": {
            "text/plain": [
              "<Figure size 640x480 with 1 Axes>"
            ],
            "image/png": "[encoded data removed]"
          },
          "metadata": {}
        },
        {
          "output_type": "display_data",
          "data": {
            "text/plain": [
              "<Figure size 640x480 with 1 Axes>"
            ],
            "image/png": "[encoded data removed]"
          },
          "metadata": {}
        }
      ]
    },
    {
      "cell_type": "code",
      "source": [
        "tshirt.isnull().mean()*100"
      ],
      "metadata": {
        "colab": {
          "base_uri": "https://localhost:8080/",
          "height": 303
        },
        "id": "aeLSk_mhn6oc",
        "outputId": "1213d6c8-b680-4748-b073-1d87c9d65d23"
      },
      "execution_count": 16,
      "outputs": [
        {
          "output_type": "execute_result",
          "data": {
            "text/plain": [
              "id           0.000000\n",
              "Category     0.000000\n",
              "attr_1      17.297372\n",
              "attr_2      15.453420\n",
              "attr_3      20.310995\n",
              "attr_4      18.136783\n",
              "attr_5      17.751479\n",
              "dtype: float64"
            ],
            "text/html": [
              "<div>\n",
              "<style scoped>\n",
              "    .dataframe tbody tr th:only-of-type {\n",
              "        vertical-align: middle;\n",
              "    }\n",
              "\n",
              "    .dataframe tbody tr th {\n",
              "        vertical-align: top;\n",
              "    }\n",
              "\n",
              "    .dataframe thead th {\n",
              "        text-align: right;\n",
              "    }\n",
              "</style>\n",
              "<table border=\"1\" class=\"dataframe\">\n",
              "  <thead>\n",
              "    <tr style=\"text-align: right;\">\n",
              "      <th></th>\n",
              "      <th>0</th>\n",
              "    </tr>\n",
              "  </thead>\n",
              "  <tbody>\n",
              "    <tr>\n",
              "      <th>id</th>\n",
              "      <td>0.000000</td>\n",
              "    </tr>\n",
              "    <tr>\n",
              "      <th>Category</th>\n",
              "      <td>0.000000</td>\n",
              "    </tr>\n",
              "    <tr>\n",
              "      <th>attr_1</th>\n",
              "      <td>17.297372</td>\n",
              "    </tr>\n",
              "    <tr>\n",
              "      <th>attr_2</th>\n",
              "      <td>15.453420</td>\n",
              "    </tr>\n",
              "    <tr>\n",
              "      <th>attr_3</th>\n",
              "      <td>20.310995</td>\n",
              "    </tr>\n",
              "    <tr>\n",
              "      <th>attr_4</th>\n",
              "      <td>18.136783</td>\n",
              "    </tr>\n",
              "    <tr>\n",
              "      <th>attr_5</th>\n",
              "      <td>17.751479</td>\n",
              "    </tr>\n",
              "  </tbody>\n",
              "</table>\n",
              "</div><br><label><b>dtype:</b> float64</label>"
            ]
          },
          "metadata": {},
          "execution_count": 16
        }
      ]
    },
    {
      "cell_type": "code",
      "source": [
        "tshirt.info()"
      ],
      "metadata": {
        "colab": {
          "base_uri": "https://localhost:8080/"
        },
        "id": "b8SNPHbAoCU7",
        "outputId": "a400889b-ca0a-463d-a105-e7728377312d"
      },
      "execution_count": 17,
      "outputs": [
        {
          "output_type": "stream",
          "name": "stdout",
          "text": [
            "<class 'pandas.core.frame.DataFrame'>\n",
            "RangeIndex: 7267 entries, 0 to 7266\n",
            "Data columns (total 7 columns):\n",
            " #   Column    Non-Null Count  Dtype \n",
            "---  ------    --------------  ----- \n",
            " 0   id        7267 non-null   int64 \n",
            " 1   Category  7267 non-null   object\n",
            " 2   attr_1    6010 non-null   object\n",
            " 3   attr_2    6144 non-null   object\n",
            " 4   attr_3    5791 non-null   object\n",
            " 5   attr_4    5949 non-null   object\n",
            " 6   attr_5    5977 non-null   object\n",
            "dtypes: int64(1), object(6)\n",
            "memory usage: 397.5+ KB\n"
          ]
        }
      ]
    },
    {
      "cell_type": "code",
      "source": [
        "tshirt['attr_1'].fillna('dummy_value',inplace=True)\n",
        "tshirt['attr_2'].fillna('round',inplace=True)\n",
        "tshirt['attr_3'].fillna('solid',inplace=True)\n",
        "tshirt['attr_4'].fillna('solid',inplace=True)\n",
        "tshirt['attr_5'].fillna('long sleeves',inplace=True)"
      ],
      "metadata": {
        "colab": {
          "base_uri": "https://localhost:8080/"
        },
        "id": "S2cjZ1IuoFSY",
        "outputId": "c6cb5ad0-20bd-414a-fdb9-20da1e914f46"
      },
      "execution_count": 18,
      "outputs": [
        {
          "output_type": "stream",
          "name": "stderr",
          "text": [
            "<ipython-input-18-96243c1d548a>:1: FutureWarning: A value is trying to be set on a copy of a DataFrame or Series through chained assignment using an inplace method.\n",
            "The behavior will change in pandas 3.0. This inplace method will never work because the intermediate object on which we are setting values always behaves as a copy.\n",
            "\n",
            "For example, when doing 'df[col].method(value, inplace=True)', try using 'df.method({col: value}, inplace=True)' or df[col] = df[col].method(value) instead, to perform the operation inplace on the original object.\n",
            "\n",
            "\n",
            "  tshirt['attr_1'].fillna('dummy_value',inplace=True)\n",
            "<ipython-input-18-96243c1d548a>:2: FutureWarning: A value is trying to be set on a copy of a DataFrame or Series through chained assignment using an inplace method.\n",
            "The behavior will change in pandas 3.0. This inplace method will never work because the intermediate object on which we are setting values always behaves as a copy.\n",
            "\n",
            "For example, when doing 'df[col].method(value, inplace=True)', try using 'df.method({col: value}, inplace=True)' or df[col] = df[col].method(value) instead, to perform the operation inplace on the original object.\n",
            "\n",
            "\n",
            "  tshirt['attr_2'].fillna('round',inplace=True)\n",
            "<ipython-input-18-96243c1d548a>:3: FutureWarning: A value is trying to be set on a copy of a DataFrame or Series through chained assignment using an inplace method.\n",
            "The behavior will change in pandas 3.0. This inplace method will never work because the intermediate object on which we are setting values always behaves as a copy.\n",
            "\n",
            "For example, when doing 'df[col].method(value, inplace=True)', try using 'df.method({col: value}, inplace=True)' or df[col] = df[col].method(value) instead, to perform the operation inplace on the original object.\n",
            "\n",
            "\n",
            "  tshirt['attr_3'].fillna('solid',inplace=True)\n",
            "<ipython-input-18-96243c1d548a>:4: FutureWarning: A value is trying to be set on a copy of a DataFrame or Series through chained assignment using an inplace method.\n",
            "The behavior will change in pandas 3.0. This inplace method will never work because the intermediate object on which we are setting values always behaves as a copy.\n",
            "\n",
            "For example, when doing 'df[col].method(value, inplace=True)', try using 'df.method({col: value}, inplace=True)' or df[col] = df[col].method(value) instead, to perform the operation inplace on the original object.\n",
            "\n",
            "\n",
            "  tshirt['attr_4'].fillna('solid',inplace=True)\n",
            "<ipython-input-18-96243c1d548a>:5: FutureWarning: A value is trying to be set on a copy of a DataFrame or Series through chained assignment using an inplace method.\n",
            "The behavior will change in pandas 3.0. This inplace method will never work because the intermediate object on which we are setting values always behaves as a copy.\n",
            "\n",
            "For example, when doing 'df[col].method(value, inplace=True)', try using 'df.method({col: value}, inplace=True)' or df[col] = df[col].method(value) instead, to perform the operation inplace on the original object.\n",
            "\n",
            "\n",
            "  tshirt['attr_5'].fillna('long sleeves',inplace=True)\n"
          ]
        }
      ]
    },
    {
      "cell_type": "code",
      "source": [
        "for i in tshirt.columns:\n",
        "  if (i!='id') and (i!='Category'):\n",
        "    tshirt[i].value_counts().plot(kind='bar')\n",
        "    plt.show()"
      ],
      "metadata": {
        "colab": {
          "base_uri": "https://localhost:8080/",
          "height": 1000
        },
        "id": "0aw_N2-voHb3",
        "outputId": "fba4e9f5-b230-4dbd-a9c7-ae66c9dd5d3c"
      },
      "execution_count": 19,
      "outputs": [
        {
          "output_type": "display_data",
          "data": {
            "text/plain": [
              "<Figure size 640x480 with 1 Axes>"
            ],
            "image/png": "[encoded data removed]"
          },
          "metadata": {}
        },
        {
          "output_type": "display_data",
          "data": {
            "text/plain": [
              "<Figure size 640x480 with 1 Axes>"
            ],
            "image/png": "[encoded data removed]"
          },
          "metadata": {}
        },
        {
          "output_type": "display_data",
          "data": {
            "text/plain": [
              "<Figure size 640x480 with 1 Axes>"
            ],
            "image/png": "[encoded data removed]"
          },
          "metadata": {}
        },
        {
          "output_type": "display_data",
          "data": {
            "text/plain": [
              "<Figure size 640x480 with 1 Axes>"
            ],
            "image/png": "[encoded data removed]"
          },
          "metadata": {}
        },
        {
          "output_type": "display_data",
          "data": {
            "text/plain": [
              "<Figure size 640x480 with 1 Axes>"
            ],
            "image/png": "[encoded data removed]"
          },
          "metadata": {}
        }
      ]
    },
    {
      "cell_type": "code",
      "source": [
        "tshirt.info()"
      ],
      "metadata": {
        "colab": {
          "base_uri": "https://localhost:8080/"
        },
        "id": "dqNO56o2oJgb",
        "outputId": "07a8643c-0875-4b7e-b96a-3ed06e2c5751"
      },
      "execution_count": 20,
      "outputs": [
        {
          "output_type": "stream",
          "name": "stdout",
          "text": [
            "<class 'pandas.core.frame.DataFrame'>\n",
            "RangeIndex: 7267 entries, 0 to 7266\n",
            "Data columns (total 7 columns):\n",
            " #   Column    Non-Null Count  Dtype \n",
            "---  ------    --------------  ----- \n",
            " 0   id        7267 non-null   int64 \n",
            " 1   Category  7267 non-null   object\n",
            " 2   attr_1    7267 non-null   object\n",
            " 3   attr_2    7267 non-null   object\n",
            " 4   attr_3    7267 non-null   object\n",
            " 5   attr_4    7267 non-null   object\n",
            " 6   attr_5    7267 non-null   object\n",
            "dtypes: int64(1), object(6)\n",
            "memory usage: 397.5+ KB\n"
          ]
        }
      ]
    },
    {
      "cell_type": "code",
      "source": [
        "X1 = tshirt.iloc[:,0:2]\n",
        "y1 = tshirt.iloc[:,2:]"
      ],
      "metadata": {
        "id": "OuJRyZlsoLiE"
      },
      "execution_count": 21,
      "outputs": []
    },
    {
      "cell_type": "code",
      "source": [
        "for i in y1.columns:\n",
        "  print(i,y1[i].unique())"
      ],
      "metadata": {
        "colab": {
          "base_uri": "https://localhost:8080/"
        },
        "id": "FrmJMUuCoNYo",
        "outputId": "ed72a01a-60f7-4c93-9afe-fce933510076"
      },
      "execution_count": 22,
      "outputs": [
        {
          "output_type": "stream",
          "name": "stdout",
          "text": [
            "attr_1 ['default' 'multicolor' 'black' 'white' 'dummy_value']\n",
            "attr_2 ['round' 'polo']\n",
            "attr_3 ['printed' 'solid']\n",
            "attr_4 ['default' 'solid' 'typography']\n",
            "attr_5 ['short sleeves' 'long sleeves']\n"
          ]
        }
      ]
    },
    {
      "cell_type": "code",
      "source": [
        "from sklearn.preprocessing import OrdinalEncoder\n",
        "\n",
        "# Correct the order of categories in the first column and add missing categories for others\n",
        "oe = OrdinalEncoder(categories=[\n",
        "    ['default', 'multicolor', 'black', 'white','dummy_value'],\n",
        "    ['round', 'polo'],\n",
        "    ['printed', 'solid'],\n",
        "    ['default', 'solid' ,'typography'],\n",
        "    ['short sleeves' ,'long sleeves']\n",
        "\n",
        "]\n",
        ")\n",
        "\n",
        "y1 = oe.fit_transform(y1)"
      ],
      "metadata": {
        "id": "IVYKMzpWoPVn"
      },
      "execution_count": 23,
      "outputs": []
    },
    {
      "cell_type": "code",
      "source": [
        "y1 = pd.DataFrame(y1, columns=tshirt.columns[2:]) # Assuming the original columns of y are from index 2 onwards in df\n",
        "\n",
        "y1.info()"
      ],
      "metadata": {
        "colab": {
          "base_uri": "https://localhost:8080/"
        },
        "id": "_qTeaDI-oRXm",
        "outputId": "7cc33e9c-92d5-4728-c1fa-474018e56857"
      },
      "execution_count": 24,
      "outputs": [
        {
          "output_type": "stream",
          "name": "stdout",
          "text": [
            "<class 'pandas.core.frame.DataFrame'>\n",
            "RangeIndex: 7267 entries, 0 to 7266\n",
            "Data columns (total 5 columns):\n",
            " #   Column  Non-Null Count  Dtype  \n",
            "---  ------  --------------  -----  \n",
            " 0   attr_1  7267 non-null   float64\n",
            " 1   attr_2  7267 non-null   float64\n",
            " 2   attr_3  7267 non-null   float64\n",
            " 3   attr_4  7267 non-null   float64\n",
            " 4   attr_5  7267 non-null   float64\n",
            "dtypes: float64(5)\n",
            "memory usage: 284.0 KB\n"
          ]
        }
      ]
    },
    {
      "cell_type": "code",
      "source": [
        "for i in y1.columns:\n",
        "  print(i,y1[i].unique(),len(y1[i].unique()))"
      ],
      "metadata": {
        "colab": {
          "base_uri": "https://localhost:8080/"
        },
        "id": "AIUbDIhAoTKS",
        "outputId": "94fe7a9f-b0c0-48b9-ed4f-8ca03fd125ae"
      },
      "execution_count": 25,
      "outputs": [
        {
          "output_type": "stream",
          "name": "stdout",
          "text": [
            "attr_1 [0. 1. 2. 3. 4.] 5\n",
            "attr_2 [0. 1.] 2\n",
            "attr_3 [0. 1.] 2\n",
            "attr_4 [0. 1. 2.] 3\n",
            "attr_5 [0. 1.] 2\n"
          ]
        }
      ]
    },
    {
      "cell_type": "code",
      "source": [
        "y1 = np.array(y1)"
      ],
      "metadata": {
        "id": "CV7dUXfgoW6s"
      },
      "execution_count": 26,
      "outputs": []
    },
    {
      "cell_type": "code",
      "source": [
        "from sklearn.model_selection import train_test_split\n",
        "# Load images based on ID in the DataFrame\n",
        "image_dir = '/content/train_images'  # Adjust this path as necessary\n",
        "max_digits = 6\n",
        "#image_paths = [os.path.join(image_dir, f\"{i}.jpg\") for i in X['id']]\n",
        "image_paths = [os.path.join(image_dir, f'{i:0{max_digits}}.jpg') for i in range(7431)]\n",
        "# Check if all images are accessible\n",
        "for path in image_paths:\n",
        "    if not os.path.exists(path):\n",
        "        print(f\"Missing image: {path}\")\n",
        "\n",
        "\n",
        "def load_and_preprocess_images(image_paths):\n",
        "    images = []\n",
        "    for path in image_paths:\n",
        "        img = tf.io.read_file(path)\n",
        "        img = tf.image.decode_image(img, channels=3)\n",
        "        img = tf.image.resize(img, [128, 128])\n",
        "        img = img / 255.0  # Normalize to [0, 1]\n",
        "        images.append(img)\n",
        "    return np.array(images)"
      ],
      "metadata": {
        "id": "LCPNIne7oYf8"
      },
      "execution_count": 27,
      "outputs": []
    },
    {
      "cell_type": "code",
      "source": [
        "X1 = load_and_preprocess_images(image_paths)"
      ],
      "metadata": {
        "id": "5VyMs-imoaon"
      },
      "execution_count": 28,
      "outputs": []
    },
    {
      "cell_type": "code",
      "source": [
        "import os\n",
        "import pandas as pd\n",
        "import numpy as np\n",
        "import tensorflow as tf\n",
        "from tensorflow.keras.models import Model\n",
        "from tensorflow.keras.layers import Conv2D, MaxPooling2D, Flatten, Dense, Dropout, BatchNormalization, Input\n",
        "from tensorflow.keras.optimizers import Adam\n",
        "from tensorflow.keras.regularizers import l2\n",
        "\n",
        "# Define input shape\n",
        "input_shape = (128, 128, 3)\n",
        "\n",
        "# Input layer\n",
        "input_layer = Input(shape=input_shape)\n",
        "\n",
        "# Shared convolutional base\n",
        "x = Conv2D(32, (3, 3), activation='relu')(input_layer)\n",
        "x = MaxPooling2D((2, 2))(x)\n",
        "x = BatchNormalization()(x)\n",
        "x = Dropout(0.2)(x)\n",
        "\n",
        "x = Conv2D(64, (3, 3), activation='relu')(x)\n",
        "x = BatchNormalization()(x)\n",
        "x = Dropout(0.2)(x)\n",
        "\n",
        "x = Conv2D(128, (3, 3), activation='relu')(x)\n",
        "x = BatchNormalization()(x)\n",
        "x = Dropout(0.2)(x)\n",
        "\n",
        "# Flatten the output for the Dense layers\n",
        "x = Flatten()(x)\n",
        "\n",
        "# Shared Dense layers\n",
        "x = Dense(128, activation='relu')(x)\n",
        "x = Dropout(0.5)(x)\n",
        "x = BatchNormalization()(x)\n",
        "\n",
        "# Output layers for each attribute\n",
        "output_attr1 = Dense(5, activation='softmax', name='attr1_output')(x)  # 5 classes for attr 1\n",
        "output_attr2 = Dense(2, activation='softmax', name='attr2_output')(x)  # 3 classes for attr 2\n",
        "output_attr3 = Dense(2, activation='softmax', name='attr3_output')(x)  # 2 classes for attr 3\n",
        "output_attr4 = Dense(3, activation='softmax', name='attr4_output')(x)  # 3 classes for attr 4\n",
        "output_attr5 = Dense(2, activation='softmax', name='attr5_output')(x)  # 2 classes for attr 5\n",
        "\n",
        "# Create the model\n",
        "tshirt = Model(inputs=input_layer, outputs=[output_attr1, output_attr2, output_attr3, output_attr4, output_attr5])\n",
        "\n",
        "# Compile the model\n",
        "opt = Adam(0.0002)\n",
        "tshirt.compile(optimizer=opt,\n",
        "              loss={'attr1_output': 'sparse_categorical_crossentropy',\n",
        "                    'attr2_output': 'sparse_categorical_crossentropy',\n",
        "                    'attr3_output': 'sparse_categorical_crossentropy',\n",
        "                    'attr4_output': 'sparse_categorical_crossentropy',\n",
        "                    'attr5_output': 'sparse_categorical_crossentropy'},\n",
        "              metrics={'attr1_output': 'accuracy',\n",
        "                       'attr2_output': 'accuracy',\n",
        "                       'attr3_output': 'accuracy',\n",
        "                       'attr4_output': 'accuracy',\n",
        "                       'attr5_output': 'accuracy'})\n",
        "\n",
        "# Summary of the model\n",
        "tshirt.summary()"
      ],
      "metadata": {
        "colab": {
          "base_uri": "https://localhost:8080/",
          "height": 849
        },
        "id": "Q96U-o-TocbU",
        "outputId": "d9a73472-7908-4df6-bd32-e548c67b08db"
      },
      "execution_count": 29,
      "outputs": [
        {
          "output_type": "display_data",
          "data": {
            "text/plain": [
              "\u001b[1mModel: \"functional\"\u001b[0m\n"
            ],
            "text/html": [
              "<pre style=\"white-space:pre;overflow-x:auto;line-height:normal;font-family:Menlo,'DejaVu Sans Mono',consolas,'Courier New',monospace\"><span style=\"font-weight: bold\">Model: \"functional\"</span>\n",
              "</pre>\n"
            ]
          },
          "metadata": {}
        },
        {
          "output_type": "display_data",
          "data": {
            "text/plain": [
              "┏━━━━━━━━━━━━━━━━━━━━━━━━━━━┳━━━━━━━━━━━━━━━━━━━━━━━━┳━━━━━━━━━━━━━━━━┳━━━━━━━━━━━━━━━━━━━━━━━━┓\n",
              "┃\u001b[1m \u001b[0m\u001b[1mLayer (type)             \u001b[0m\u001b[1m \u001b[0m┃\u001b[1m \u001b[0m\u001b[1mOutput Shape          \u001b[0m\u001b[1m \u001b[0m┃\u001b[1m \u001b[0m\u001b[1m       Param #\u001b[0m\u001b[1m \u001b[0m┃\u001b[1m \u001b[0m\u001b[1mConnected to          \u001b[0m\u001b[1m \u001b[0m┃\n",
              "┡━━━━━━━━━━━━━━━━━━━━━━━━━━━╇━━━━━━━━━━━━━━━━━━━━━━━━╇━━━━━━━━━━━━━━━━╇━━━━━━━━━━━━━━━━━━━━━━━━┩\n",
              "│ input_layer (\u001b[38;5;33mInputLayer\u001b[0m)  │ (\u001b[38;5;45mNone\u001b[0m, \u001b[38;5;34m128\u001b[0m, \u001b[38;5;34m128\u001b[0m, \u001b[38;5;34m3\u001b[0m)    │              \u001b[38;5;34m0\u001b[0m │ -                      │\n",
              "├───────────────────────────┼────────────────────────┼────────────────┼────────────────────────┤\n",
              "│ conv2d (\u001b[38;5;33mConv2D\u001b[0m)           │ (\u001b[38;5;45mNone\u001b[0m, \u001b[38;5;34m126\u001b[0m, \u001b[38;5;34m126\u001b[0m, \u001b[38;5;34m32\u001b[0m)   │            \u001b[38;5;34m896\u001b[0m │ input_layer[\u001b[38;5;34m0\u001b[0m][\u001b[38;5;34m0\u001b[0m]      │\n",
              "├───────────────────────────┼────────────────────────┼────────────────┼────────────────────────┤\n",
              "│ max_pooling2d             │ (\u001b[38;5;45mNone\u001b[0m, \u001b[38;5;34m63\u001b[0m, \u001b[38;5;34m63\u001b[0m, \u001b[38;5;34m32\u001b[0m)     │              \u001b[38;5;34m0\u001b[0m │ conv2d[\u001b[38;5;34m0\u001b[0m][\u001b[38;5;34m0\u001b[0m]           │\n",
              "│ (\u001b[38;5;33mMaxPooling2D\u001b[0m)            │                        │                │                        │\n",
              "├───────────────────────────┼────────────────────────┼────────────────┼────────────────────────┤\n",
              "│ batch_normalization       │ (\u001b[38;5;45mNone\u001b[0m, \u001b[38;5;34m63\u001b[0m, \u001b[38;5;34m63\u001b[0m, \u001b[38;5;34m32\u001b[0m)     │            \u001b[38;5;34m128\u001b[0m │ max_pooling2d[\u001b[38;5;34m0\u001b[0m][\u001b[38;5;34m0\u001b[0m]    │\n",
              "│ (\u001b[38;5;33mBatchNormalization\u001b[0m)      │                        │                │                        │\n",
              "├───────────────────────────┼────────────────────────┼────────────────┼────────────────────────┤\n",
              "│ dropout (\u001b[38;5;33mDropout\u001b[0m)         │ (\u001b[38;5;45mNone\u001b[0m, \u001b[38;5;34m63\u001b[0m, \u001b[38;5;34m63\u001b[0m, \u001b[38;5;34m32\u001b[0m)     │              \u001b[38;5;34m0\u001b[0m │ batch_normalization[\u001b[38;5;34m0\u001b[0m… │\n",
              "├───────────────────────────┼────────────────────────┼────────────────┼────────────────────────┤\n",
              "│ conv2d_1 (\u001b[38;5;33mConv2D\u001b[0m)         │ (\u001b[38;5;45mNone\u001b[0m, \u001b[38;5;34m61\u001b[0m, \u001b[38;5;34m61\u001b[0m, \u001b[38;5;34m64\u001b[0m)     │         \u001b[38;5;34m18,496\u001b[0m │ dropout[\u001b[38;5;34m0\u001b[0m][\u001b[38;5;34m0\u001b[0m]          │\n",
              "├───────────────────────────┼────────────────────────┼────────────────┼────────────────────────┤\n",
              "│ batch_normalization_1     │ (\u001b[38;5;45mNone\u001b[0m, \u001b[38;5;34m61\u001b[0m, \u001b[38;5;34m61\u001b[0m, \u001b[38;5;34m64\u001b[0m)     │            \u001b[38;5;34m256\u001b[0m │ conv2d_1[\u001b[38;5;34m0\u001b[0m][\u001b[38;5;34m0\u001b[0m]         │\n",
              "│ (\u001b[38;5;33mBatchNormalization\u001b[0m)      │                        │                │                        │\n",
              "├───────────────────────────┼────────────────────────┼────────────────┼────────────────────────┤\n",
              "│ dropout_1 (\u001b[38;5;33mDropout\u001b[0m)       │ (\u001b[38;5;45mNone\u001b[0m, \u001b[38;5;34m61\u001b[0m, \u001b[38;5;34m61\u001b[0m, \u001b[38;5;34m64\u001b[0m)     │              \u001b[38;5;34m0\u001b[0m │ batch_normalization_1… │\n",
              "├───────────────────────────┼────────────────────────┼────────────────┼────────────────────────┤\n",
              "│ conv2d_2 (\u001b[38;5;33mConv2D\u001b[0m)         │ (\u001b[38;5;45mNone\u001b[0m, \u001b[38;5;34m59\u001b[0m, \u001b[38;5;34m59\u001b[0m, \u001b[38;5;34m128\u001b[0m)    │         \u001b[38;5;34m73,856\u001b[0m │ dropout_1[\u001b[38;5;34m0\u001b[0m][\u001b[38;5;34m0\u001b[0m]        │\n",
              "├───────────────────────────┼────────────────────────┼────────────────┼────────────────────────┤\n",
              "│ batch_normalization_2     │ (\u001b[38;5;45mNone\u001b[0m, \u001b[38;5;34m59\u001b[0m, \u001b[38;5;34m59\u001b[0m, \u001b[38;5;34m128\u001b[0m)    │            \u001b[38;5;34m512\u001b[0m │ conv2d_2[\u001b[38;5;34m0\u001b[0m][\u001b[38;5;34m0\u001b[0m]         │\n",
              "│ (\u001b[38;5;33mBatchNormalization\u001b[0m)      │                        │                │                        │\n",
              "├───────────────────────────┼────────────────────────┼────────────────┼────────────────────────┤\n",
              "│ dropout_2 (\u001b[38;5;33mDropout\u001b[0m)       │ (\u001b[38;5;45mNone\u001b[0m, \u001b[38;5;34m59\u001b[0m, \u001b[38;5;34m59\u001b[0m, \u001b[38;5;34m128\u001b[0m)    │              \u001b[38;5;34m0\u001b[0m │ batch_normalization_2… │\n",
              "├───────────────────────────┼────────────────────────┼────────────────┼────────────────────────┤\n",
              "│ flatten (\u001b[38;5;33mFlatten\u001b[0m)         │ (\u001b[38;5;45mNone\u001b[0m, \u001b[38;5;34m445568\u001b[0m)         │              \u001b[38;5;34m0\u001b[0m │ dropout_2[\u001b[38;5;34m0\u001b[0m][\u001b[38;5;34m0\u001b[0m]        │\n",
              "├───────────────────────────┼────────────────────────┼────────────────┼────────────────────────┤\n",
              "│ dense (\u001b[38;5;33mDense\u001b[0m)             │ (\u001b[38;5;45mNone\u001b[0m, \u001b[38;5;34m128\u001b[0m)            │     \u001b[38;5;34m57,032,832\u001b[0m │ flatten[\u001b[38;5;34m0\u001b[0m][\u001b[38;5;34m0\u001b[0m]          │\n",
              "├───────────────────────────┼────────────────────────┼────────────────┼────────────────────────┤\n",
              "│ dropout_3 (\u001b[38;5;33mDropout\u001b[0m)       │ (\u001b[38;5;45mNone\u001b[0m, \u001b[38;5;34m128\u001b[0m)            │              \u001b[38;5;34m0\u001b[0m │ dense[\u001b[38;5;34m0\u001b[0m][\u001b[38;5;34m0\u001b[0m]            │\n",
              "├───────────────────────────┼────────────────────────┼────────────────┼────────────────────────┤\n",
              "│ batch_normalization_3     │ (\u001b[38;5;45mNone\u001b[0m, \u001b[38;5;34m128\u001b[0m)            │            \u001b[38;5;34m512\u001b[0m │ dropout_3[\u001b[38;5;34m0\u001b[0m][\u001b[38;5;34m0\u001b[0m]        │\n",
              "│ (\u001b[38;5;33mBatchNormalization\u001b[0m)      │                        │                │                        │\n",
              "├───────────────────────────┼────────────────────────┼────────────────┼────────────────────────┤\n",
              "│ attr1_output (\u001b[38;5;33mDense\u001b[0m)      │ (\u001b[38;5;45mNone\u001b[0m, \u001b[38;5;34m5\u001b[0m)              │            \u001b[38;5;34m645\u001b[0m │ batch_normalization_3… │\n",
              "├───────────────────────────┼────────────────────────┼────────────────┼────────────────────────┤\n",
              "│ attr2_output (\u001b[38;5;33mDense\u001b[0m)      │ (\u001b[38;5;45mNone\u001b[0m, \u001b[38;5;34m2\u001b[0m)              │            \u001b[38;5;34m258\u001b[0m │ batch_normalization_3… │\n",
              "├───────────────────────────┼────────────────────────┼────────────────┼────────────────────────┤\n",
              "│ attr3_output (\u001b[38;5;33mDense\u001b[0m)      │ (\u001b[38;5;45mNone\u001b[0m, \u001b[38;5;34m2\u001b[0m)              │            \u001b[38;5;34m258\u001b[0m │ batch_normalization_3… │\n",
              "├───────────────────────────┼────────────────────────┼────────────────┼────────────────────────┤\n",
              "│ attr4_output (\u001b[38;5;33mDense\u001b[0m)      │ (\u001b[38;5;45mNone\u001b[0m, \u001b[38;5;34m3\u001b[0m)              │            \u001b[38;5;34m387\u001b[0m │ batch_normalization_3… │\n",
              "├───────────────────────────┼────────────────────────┼────────────────┼────────────────────────┤\n",
              "│ attr5_output (\u001b[38;5;33mDense\u001b[0m)      │ (\u001b[38;5;45mNone\u001b[0m, \u001b[38;5;34m2\u001b[0m)              │            \u001b[38;5;34m258\u001b[0m │ batch_normalization_3… │\n",
              "└───────────────────────────┴────────────────────────┴────────────────┴────────────────────────┘\n"
            ],
            "text/html": [
              "<pre style=\"white-space:pre;overflow-x:auto;line-height:normal;font-family:Menlo,'DejaVu Sans Mono',consolas,'Courier New',monospace\">┏━━━━━━━━━━━━━━━━━━━━━━━━━━━┳━━━━━━━━━━━━━━━━━━━━━━━━┳━━━━━━━━━━━━━━━━┳━━━━━━━━━━━━━━━━━━━━━━━━┓\n",
              "┃<span style=\"font-weight: bold\"> Layer (type)              </span>┃<span style=\"font-weight: bold\"> Output Shape           </span>┃<span style=\"font-weight: bold\">        Param # </span>┃<span style=\"font-weight: bold\"> Connected to           </span>┃\n",
              "┡━━━━━━━━━━━━━━━━━━━━━━━━━━━╇━━━━━━━━━━━━━━━━━━━━━━━━╇━━━━━━━━━━━━━━━━╇━━━━━━━━━━━━━━━━━━━━━━━━┩\n",
              "│ input_layer (<span style=\"color: #0087ff; text-decoration-color: #0087ff\">InputLayer</span>)  │ (<span style=\"color: #00d7ff; text-decoration-color: #00d7ff\">None</span>, <span style=\"color: #00af00; text-decoration-color: #00af00\">128</span>, <span style=\"color: #00af00; text-decoration-color: #00af00\">128</span>, <span style=\"color: #00af00; text-decoration-color: #00af00\">3</span>)    │              <span style=\"color: #00af00; text-decoration-color: #00af00\">0</span> │ -                      │\n",
              "├───────────────────────────┼────────────────────────┼────────────────┼────────────────────────┤\n",
              "│ conv2d (<span style=\"color: #0087ff; text-decoration-color: #0087ff\">Conv2D</span>)           │ (<span style=\"color: #00d7ff; text-decoration-color: #00d7ff\">None</span>, <span style=\"color: #00af00; text-decoration-color: #00af00\">126</span>, <span style=\"color: #00af00; text-decoration-color: #00af00\">126</span>, <span style=\"color: #00af00; text-decoration-color: #00af00\">32</span>)   │            <span style=\"color: #00af00; text-decoration-color: #00af00\">896</span> │ input_layer[<span style=\"color: #00af00; text-decoration-color: #00af00\">0</span>][<span style=\"color: #00af00; text-decoration-color: #00af00\">0</span>]      │\n",
              "├───────────────────────────┼────────────────────────┼────────────────┼────────────────────────┤\n",
              "│ max_pooling2d             │ (<span style=\"color: #00d7ff; text-decoration-color: #00d7ff\">None</span>, <span style=\"color: #00af00; text-decoration-color: #00af00\">63</span>, <span style=\"color: #00af00; text-decoration-color: #00af00\">63</span>, <span style=\"color: #00af00; text-decoration-color: #00af00\">32</span>)     │              <span style=\"color: #00af00; text-decoration-color: #00af00\">0</span> │ conv2d[<span style=\"color: #00af00; text-decoration-color: #00af00\">0</span>][<span style=\"color: #00af00; text-decoration-color: #00af00\">0</span>]           │\n",
              "│ (<span style=\"color: #0087ff; text-decoration-color: #0087ff\">MaxPooling2D</span>)            │                        │                │                        │\n",
              "├───────────────────────────┼────────────────────────┼────────────────┼────────────────────────┤\n",
              "│ batch_normalization       │ (<span style=\"color: #00d7ff; text-decoration-color: #00d7ff\">None</span>, <span style=\"color: #00af00; text-decoration-color: #00af00\">63</span>, <span style=\"color: #00af00; text-decoration-color: #00af00\">63</span>, <span style=\"color: #00af00; text-decoration-color: #00af00\">32</span>)     │            <span style=\"color: #00af00; text-decoration-color: #00af00\">128</span> │ max_pooling2d[<span style=\"color: #00af00; text-decoration-color: #00af00\">0</span>][<span style=\"color: #00af00; text-decoration-color: #00af00\">0</span>]    │\n",
              "│ (<span style=\"color: #0087ff; text-decoration-color: #0087ff\">BatchNormalization</span>)      │                        │                │                        │\n",
              "├───────────────────────────┼────────────────────────┼────────────────┼────────────────────────┤\n",
              "│ dropout (<span style=\"color: #0087ff; text-decoration-color: #0087ff\">Dropout</span>)         │ (<span style=\"color: #00d7ff; text-decoration-color: #00d7ff\">None</span>, <span style=\"color: #00af00; text-decoration-color: #00af00\">63</span>, <span style=\"color: #00af00; text-decoration-color: #00af00\">63</span>, <span style=\"color: #00af00; text-decoration-color: #00af00\">32</span>)     │              <span style=\"color: #00af00; text-decoration-color: #00af00\">0</span> │ batch_normalization[<span style=\"color: #00af00; text-decoration-color: #00af00\">0</span>… │\n",
              "├───────────────────────────┼────────────────────────┼────────────────┼────────────────────────┤\n",
              "│ conv2d_1 (<span style=\"color: #0087ff; text-decoration-color: #0087ff\">Conv2D</span>)         │ (<span style=\"color: #00d7ff; text-decoration-color: #00d7ff\">None</span>, <span style=\"color: #00af00; text-decoration-color: #00af00\">61</span>, <span style=\"color: #00af00; text-decoration-color: #00af00\">61</span>, <span style=\"color: #00af00; text-decoration-color: #00af00\">64</span>)     │         <span style=\"color: #00af00; text-decoration-color: #00af00\">18,496</span> │ dropout[<span style=\"color: #00af00; text-decoration-color: #00af00\">0</span>][<span style=\"color: #00af00; text-decoration-color: #00af00\">0</span>]          │\n",
              "├───────────────────────────┼────────────────────────┼────────────────┼────────────────────────┤\n",
              "│ batch_normalization_1     │ (<span style=\"color: #00d7ff; text-decoration-color: #00d7ff\">None</span>, <span style=\"color: #00af00; text-decoration-color: #00af00\">61</span>, <span style=\"color: #00af00; text-decoration-color: #00af00\">61</span>, <span style=\"color: #00af00; text-decoration-color: #00af00\">64</span>)     │            <span style=\"color: #00af00; text-decoration-color: #00af00\">256</span> │ conv2d_1[<span style=\"color: #00af00; text-decoration-color: #00af00\">0</span>][<span style=\"color: #00af00; text-decoration-color: #00af00\">0</span>]         │\n",
              "│ (<span style=\"color: #0087ff; text-decoration-color: #0087ff\">BatchNormalization</span>)      │                        │                │                        │\n",
              "├───────────────────────────┼────────────────────────┼────────────────┼────────────────────────┤\n",
              "│ dropout_1 (<span style=\"color: #0087ff; text-decoration-color: #0087ff\">Dropout</span>)       │ (<span style=\"color: #00d7ff; text-decoration-color: #00d7ff\">None</span>, <span style=\"color: #00af00; text-decoration-color: #00af00\">61</span>, <span style=\"color: #00af00; text-decoration-color: #00af00\">61</span>, <span style=\"color: #00af00; text-decoration-color: #00af00\">64</span>)     │              <span style=\"color: #00af00; text-decoration-color: #00af00\">0</span> │ batch_normalization_1… │\n",
              "├───────────────────────────┼────────────────────────┼────────────────┼────────────────────────┤\n",
              "│ conv2d_2 (<span style=\"color: #0087ff; text-decoration-color: #0087ff\">Conv2D</span>)         │ (<span style=\"color: #00d7ff; text-decoration-color: #00d7ff\">None</span>, <span style=\"color: #00af00; text-decoration-color: #00af00\">59</span>, <span style=\"color: #00af00; text-decoration-color: #00af00\">59</span>, <span style=\"color: #00af00; text-decoration-color: #00af00\">128</span>)    │         <span style=\"color: #00af00; text-decoration-color: #00af00\">73,856</span> │ dropout_1[<span style=\"color: #00af00; text-decoration-color: #00af00\">0</span>][<span style=\"color: #00af00; text-decoration-color: #00af00\">0</span>]        │\n",
              "├───────────────────────────┼────────────────────────┼────────────────┼────────────────────────┤\n",
              "│ batch_normalization_2     │ (<span style=\"color: #00d7ff; text-decoration-color: #00d7ff\">None</span>, <span style=\"color: #00af00; text-decoration-color: #00af00\">59</span>, <span style=\"color: #00af00; text-decoration-color: #00af00\">59</span>, <span style=\"color: #00af00; text-decoration-color: #00af00\">128</span>)    │            <span style=\"color: #00af00; text-decoration-color: #00af00\">512</span> │ conv2d_2[<span style=\"color: #00af00; text-decoration-color: #00af00\">0</span>][<span style=\"color: #00af00; text-decoration-color: #00af00\">0</span>]         │\n",
              "│ (<span style=\"color: #0087ff; text-decoration-color: #0087ff\">BatchNormalization</span>)      │                        │                │                        │\n",
              "├───────────────────────────┼────────────────────────┼────────────────┼────────────────────────┤\n",
              "│ dropout_2 (<span style=\"color: #0087ff; text-decoration-color: #0087ff\">Dropout</span>)       │ (<span style=\"color: #00d7ff; text-decoration-color: #00d7ff\">None</span>, <span style=\"color: #00af00; text-decoration-color: #00af00\">59</span>, <span style=\"color: #00af00; text-decoration-color: #00af00\">59</span>, <span style=\"color: #00af00; text-decoration-color: #00af00\">128</span>)    │              <span style=\"color: #00af00; text-decoration-color: #00af00\">0</span> │ batch_normalization_2… │\n",
              "├───────────────────────────┼────────────────────────┼────────────────┼────────────────────────┤\n",
              "│ flatten (<span style=\"color: #0087ff; text-decoration-color: #0087ff\">Flatten</span>)         │ (<span style=\"color: #00d7ff; text-decoration-color: #00d7ff\">None</span>, <span style=\"color: #00af00; text-decoration-color: #00af00\">445568</span>)         │              <span style=\"color: #00af00; text-decoration-color: #00af00\">0</span> │ dropout_2[<span style=\"color: #00af00; text-decoration-color: #00af00\">0</span>][<span style=\"color: #00af00; text-decoration-color: #00af00\">0</span>]        │\n",
              "├───────────────────────────┼────────────────────────┼────────────────┼────────────────────────┤\n",
              "│ dense (<span style=\"color: #0087ff; text-decoration-color: #0087ff\">Dense</span>)             │ (<span style=\"color: #00d7ff; text-decoration-color: #00d7ff\">None</span>, <span style=\"color: #00af00; text-decoration-color: #00af00\">128</span>)            │     <span style=\"color: #00af00; text-decoration-color: #00af00\">57,032,832</span> │ flatten[<span style=\"color: #00af00; text-decoration-color: #00af00\">0</span>][<span style=\"color: #00af00; text-decoration-color: #00af00\">0</span>]          │\n",
              "├───────────────────────────┼────────────────────────┼────────────────┼────────────────────────┤\n",
              "│ dropout_3 (<span style=\"color: #0087ff; text-decoration-color: #0087ff\">Dropout</span>)       │ (<span style=\"color: #00d7ff; text-decoration-color: #00d7ff\">None</span>, <span style=\"color: #00af00; text-decoration-color: #00af00\">128</span>)            │              <span style=\"color: #00af00; text-decoration-color: #00af00\">0</span> │ dense[<span style=\"color: #00af00; text-decoration-color: #00af00\">0</span>][<span style=\"color: #00af00; text-decoration-color: #00af00\">0</span>]            │\n",
              "├───────────────────────────┼────────────────────────┼────────────────┼────────────────────────┤\n",
              "│ batch_normalization_3     │ (<span style=\"color: #00d7ff; text-decoration-color: #00d7ff\">None</span>, <span style=\"color: #00af00; text-decoration-color: #00af00\">128</span>)            │            <span style=\"color: #00af00; text-decoration-color: #00af00\">512</span> │ dropout_3[<span style=\"color: #00af00; text-decoration-color: #00af00\">0</span>][<span style=\"color: #00af00; text-decoration-color: #00af00\">0</span>]        │\n",
              "│ (<span style=\"color: #0087ff; text-decoration-color: #0087ff\">BatchNormalization</span>)      │                        │                │                        │\n",
              "├───────────────────────────┼────────────────────────┼────────────────┼────────────────────────┤\n",
              "│ attr1_output (<span style=\"color: #0087ff; text-decoration-color: #0087ff\">Dense</span>)      │ (<span style=\"color: #00d7ff; text-decoration-color: #00d7ff\">None</span>, <span style=\"color: #00af00; text-decoration-color: #00af00\">5</span>)              │            <span style=\"color: #00af00; text-decoration-color: #00af00\">645</span> │ batch_normalization_3… │\n",
              "├───────────────────────────┼────────────────────────┼────────────────┼────────────────────────┤\n",
              "│ attr2_output (<span style=\"color: #0087ff; text-decoration-color: #0087ff\">Dense</span>)      │ (<span style=\"color: #00d7ff; text-decoration-color: #00d7ff\">None</span>, <span style=\"color: #00af00; text-decoration-color: #00af00\">2</span>)              │            <span style=\"color: #00af00; text-decoration-color: #00af00\">258</span> │ batch_normalization_3… │\n",
              "├───────────────────────────┼────────────────────────┼────────────────┼────────────────────────┤\n",
              "│ attr3_output (<span style=\"color: #0087ff; text-decoration-color: #0087ff\">Dense</span>)      │ (<span style=\"color: #00d7ff; text-decoration-color: #00d7ff\">None</span>, <span style=\"color: #00af00; text-decoration-color: #00af00\">2</span>)              │            <span style=\"color: #00af00; text-decoration-color: #00af00\">258</span> │ batch_normalization_3… │\n",
              "├───────────────────────────┼────────────────────────┼────────────────┼────────────────────────┤\n",
              "│ attr4_output (<span style=\"color: #0087ff; text-decoration-color: #0087ff\">Dense</span>)      │ (<span style=\"color: #00d7ff; text-decoration-color: #00d7ff\">None</span>, <span style=\"color: #00af00; text-decoration-color: #00af00\">3</span>)              │            <span style=\"color: #00af00; text-decoration-color: #00af00\">387</span> │ batch_normalization_3… │\n",
              "├───────────────────────────┼────────────────────────┼────────────────┼────────────────────────┤\n",
              "│ attr5_output (<span style=\"color: #0087ff; text-decoration-color: #0087ff\">Dense</span>)      │ (<span style=\"color: #00d7ff; text-decoration-color: #00d7ff\">None</span>, <span style=\"color: #00af00; text-decoration-color: #00af00\">2</span>)              │            <span style=\"color: #00af00; text-decoration-color: #00af00\">258</span> │ batch_normalization_3… │\n",
              "└───────────────────────────┴────────────────────────┴────────────────┴────────────────────────┘\n",
              "</pre>\n"
            ]
          },
          "metadata": {}
        },
        {
          "output_type": "display_data",
          "data": {
            "text/plain": [
              "\u001b[1m Total params: \u001b[0m\u001b[38;5;34m57,129,294\u001b[0m (217.93 MB)\n"
            ],
            "text/html": [
              "<pre style=\"white-space:pre;overflow-x:auto;line-height:normal;font-family:Menlo,'DejaVu Sans Mono',consolas,'Courier New',monospace\"><span style=\"font-weight: bold\"> Total params: </span><span style=\"color: #00af00; text-decoration-color: #00af00\">57,129,294</span> (217.93 MB)\n",
              "</pre>\n"
            ]
          },
          "metadata": {}
        },
        {
          "output_type": "display_data",
          "data": {
            "text/plain": [
              "\u001b[1m Trainable params: \u001b[0m\u001b[38;5;34m57,128,590\u001b[0m (217.93 MB)\n"
            ],
            "text/html": [
              "<pre style=\"white-space:pre;overflow-x:auto;line-height:normal;font-family:Menlo,'DejaVu Sans Mono',consolas,'Courier New',monospace\"><span style=\"font-weight: bold\"> Trainable params: </span><span style=\"color: #00af00; text-decoration-color: #00af00\">57,128,590</span> (217.93 MB)\n",
              "</pre>\n"
            ]
          },
          "metadata": {}
        },
        {
          "output_type": "display_data",
          "data": {
            "text/plain": [
              "\u001b[1m Non-trainable params: \u001b[0m\u001b[38;5;34m704\u001b[0m (2.75 KB)\n"
            ],
            "text/html": [
              "<pre style=\"white-space:pre;overflow-x:auto;line-height:normal;font-family:Menlo,'DejaVu Sans Mono',consolas,'Courier New',monospace\"><span style=\"font-weight: bold\"> Non-trainable params: </span><span style=\"color: #00af00; text-decoration-color: #00af00\">704</span> (2.75 KB)\n",
              "</pre>\n"
            ]
          },
          "metadata": {}
        }
      ]
    },
    {
      "cell_type": "code",
      "source": [
        "from sklearn.model_selection import train_test_split\n",
        "X1_filtered = X1[0:6500]\n",
        "y1_filtered = y1[0:6500]\n",
        "# Now use the filtered data for train_test_split\n",
        "X1_train, X1_val, y1_train, y1_val = train_test_split(\n",
        "    X1_filtered, y1_filtered, test_size=0.2, random_state=42\n",
        ")"
      ],
      "metadata": {
        "id": "G-xq5Wnuofha"
      },
      "execution_count": 35,
      "outputs": []
    },
    {
      "cell_type": "code",
      "source": [
        "y1_train_attr1 = y1_train[:, 0]\n",
        "y1_train_attr2 = y1_train[:, 1]\n",
        "y1_train_attr3 = y1_train[:, 2]\n",
        "y1_train_attr4 = y1_train[:, 3]\n",
        "y1_train_attr5 = y1_train[:, 4]"
      ],
      "metadata": {
        "id": "BGSWosZoohw_"
      },
      "execution_count": 36,
      "outputs": []
    },
    {
      "cell_type": "code",
      "source": [
        "y1_val_attr1 = y1_val[:, 0]\n",
        "y1_val_attr2 = y1_val[:, 1]\n",
        "y1_val_attr3 = y1_val[:, 2]\n",
        "y1_val_attr4 = y1_val[:, 3]\n",
        "y1_val_attr5 = y1_val[:, 4]"
      ],
      "metadata": {
        "id": "QVKu5DGXo49O"
      },
      "execution_count": 37,
      "outputs": []
    },
    {
      "cell_type": "code",
      "source": [
        "batch_size = 64  # Adjust batch size as necessary\n",
        "epochs = 10 # Set the number  epochs\n",
        "\n",
        "tshirt.fit(X1_train,\n",
        "          [y1_train_attr1, y1_train_attr2, y1_train_attr3, y1_train_attr4, y1_train_attr5],\n",
        "          validation_data=(X1_val,\n",
        "                           [y1_val_attr1, y1_val_attr2, y1_val_attr3, y1_val_attr4, y1_val_attr5]),\n",
        "          batch_size=batch_size,\n",
        "          epochs=epochs)\n"
      ],
      "metadata": {
        "colab": {
          "base_uri": "https://localhost:8080/"
        },
        "id": "s1iboLXpo6jO",
        "outputId": "69e7f9ac-fc1c-40c1-818d-49a20a24bc36"
      },
      "execution_count": 38,
      "outputs": [
        {
          "output_type": "stream",
          "name": "stdout",
          "text": [
            "Epoch 1/10\n",
            "\u001b[1m82/82\u001b[0m \u001b[32m━━━━━━━━━━━━━━━━━━━━\u001b[0m\u001b[37m\u001b[0m \u001b[1m34s\u001b[0m 300ms/step - attr1_output_accuracy: 0.8104 - attr1_output_loss: 0.6443 - attr2_output_accuracy: 0.9716 - attr2_output_loss: 0.1252 - attr3_output_accuracy: 0.9266 - attr3_output_loss: 0.2496 - attr4_output_accuracy: 0.8998 - attr4_output_loss: 0.3611 - attr5_output_accuracy: 0.9129 - attr5_output_loss: 0.2865 - loss: 1.6667 - val_attr1_output_accuracy: 0.7515 - val_attr1_output_loss: 0.8328 - val_attr2_output_accuracy: 0.9677 - val_attr2_output_loss: 0.1075 - val_attr3_output_accuracy: 0.8862 - val_attr3_output_loss: 0.2943 - val_attr4_output_accuracy: 0.8715 - val_attr4_output_loss: 0.3967 - val_attr5_output_accuracy: 0.9062 - val_attr5_output_loss: 0.2485 - val_loss: 1.8544\n",
            "Epoch 2/10\n",
            "\u001b[1m82/82\u001b[0m \u001b[32m━━━━━━━━━━━━━━━━━━━━\u001b[0m\u001b[37m\u001b[0m \u001b[1m16s\u001b[0m 86ms/step - attr1_output_accuracy: 0.7993 - attr1_output_loss: 0.5542 - attr2_output_accuracy: 0.9674 - attr2_output_loss: 0.1010 - attr3_output_accuracy: 0.9323 - attr3_output_loss: 0.1920 - attr4_output_accuracy: 0.9060 - attr4_output_loss: 0.2723 - attr5_output_accuracy: 0.9236 - attr5_output_loss: 0.2167 - loss: 1.3362 - val_attr1_output_accuracy: 0.7408 - val_attr1_output_loss: 0.8210 - val_attr2_output_accuracy: 0.9715 - val_attr2_output_loss: 0.0962 - val_attr3_output_accuracy: 0.8977 - val_attr3_output_loss: 0.2660 - val_attr4_output_accuracy: 0.8700 - val_attr4_output_loss: 0.3821 - val_attr5_output_accuracy: 0.9069 - val_attr5_output_loss: 0.2476 - val_loss: 1.7872\n",
            "Epoch 3/10\n",
            "\u001b[1m82/82\u001b[0m \u001b[32m━━━━━━━━━━━━━━━━━━━━\u001b[0m\u001b[37m\u001b[0m \u001b[1m7s\u001b[0m 82ms/step - attr1_output_accuracy: 0.8176 - attr1_output_loss: 0.4918 - attr2_output_accuracy: 0.9742 - attr2_output_loss: 0.0787 - attr3_output_accuracy: 0.9328 - attr3_output_loss: 0.1675 - attr4_output_accuracy: 0.9142 - attr4_output_loss: 0.2341 - attr5_output_accuracy: 0.9335 - attr5_output_loss: 0.1769 - loss: 1.1490 - val_attr1_output_accuracy: 0.7385 - val_attr1_output_loss: 0.8254 - val_attr2_output_accuracy: 0.9700 - val_attr2_output_loss: 0.1008 - val_attr3_output_accuracy: 0.8900 - val_attr3_output_loss: 0.2646 - val_attr4_output_accuracy: 0.8623 - val_attr4_output_loss: 0.3827 - val_attr5_output_accuracy: 0.9215 - val_attr5_output_loss: 0.2301 - val_loss: 1.7843\n",
            "Epoch 4/10\n",
            "\u001b[1m82/82\u001b[0m \u001b[32m━━━━━━━━━━━━━━━━━━━━\u001b[0m\u001b[37m\u001b[0m \u001b[1m11s\u001b[0m 89ms/step - attr1_output_accuracy: 0.8362 - attr1_output_loss: 0.4690 - attr2_output_accuracy: 0.9768 - attr2_output_loss: 0.0764 - attr3_output_accuracy: 0.9445 - attr3_output_loss: 0.1494 - attr4_output_accuracy: 0.9149 - attr4_output_loss: 0.2312 - attr5_output_accuracy: 0.9293 - attr5_output_loss: 0.1877 - loss: 1.1136 - val_attr1_output_accuracy: 0.7431 - val_attr1_output_loss: 0.8196 - val_attr2_output_accuracy: 0.9723 - val_attr2_output_loss: 0.0986 - val_attr3_output_accuracy: 0.8908 - val_attr3_output_loss: 0.2778 - val_attr4_output_accuracy: 0.8654 - val_attr4_output_loss: 0.3963 - val_attr5_output_accuracy: 0.9154 - val_attr5_output_loss: 0.2346 - val_loss: 1.8127\n",
            "Epoch 5/10\n",
            "\u001b[1m82/82\u001b[0m \u001b[32m━━━━━━━━━━━━━━━━━━━━\u001b[0m\u001b[37m\u001b[0m \u001b[1m7s\u001b[0m 81ms/step - attr1_output_accuracy: 0.8539 - attr1_output_loss: 0.4199 - attr2_output_accuracy: 0.9814 - attr2_output_loss: 0.0630 - attr3_output_accuracy: 0.9427 - attr3_output_loss: 0.1415 - attr4_output_accuracy: 0.9281 - attr4_output_loss: 0.2011 - attr5_output_accuracy: 0.9393 - attr5_output_loss: 0.1613 - loss: 0.9865 - val_attr1_output_accuracy: 0.7400 - val_attr1_output_loss: 0.8428 - val_attr2_output_accuracy: 0.9708 - val_attr2_output_loss: 0.1033 - val_attr3_output_accuracy: 0.9000 - val_attr3_output_loss: 0.2837 - val_attr4_output_accuracy: 0.8669 - val_attr4_output_loss: 0.4084 - val_attr5_output_accuracy: 0.9146 - val_attr5_output_loss: 0.2515 - val_loss: 1.8695\n",
            "Epoch 6/10\n",
            "\u001b[1m82/82\u001b[0m \u001b[32m━━━━━━━━━━━━━━━━━━━━\u001b[0m\u001b[37m\u001b[0m \u001b[1m10s\u001b[0m 82ms/step - attr1_output_accuracy: 0.8494 - attr1_output_loss: 0.4127 - attr2_output_accuracy: 0.9809 - attr2_output_loss: 0.0629 - attr3_output_accuracy: 0.9467 - attr3_output_loss: 0.1405 - attr4_output_accuracy: 0.9290 - attr4_output_loss: 0.1976 - attr5_output_accuracy: 0.9439 - attr5_output_loss: 0.1567 - loss: 0.9703 - val_attr1_output_accuracy: 0.7285 - val_attr1_output_loss: 0.8683 - val_attr2_output_accuracy: 0.9654 - val_attr2_output_loss: 0.1241 - val_attr3_output_accuracy: 0.9046 - val_attr3_output_loss: 0.2966 - val_attr4_output_accuracy: 0.8708 - val_attr4_output_loss: 0.4096 - val_attr5_output_accuracy: 0.9108 - val_attr5_output_loss: 0.2594 - val_loss: 1.9430\n",
            "Epoch 7/10\n",
            "\u001b[1m82/82\u001b[0m \u001b[32m━━━━━━━━━━━━━━━━━━━━\u001b[0m\u001b[37m\u001b[0m \u001b[1m7s\u001b[0m 85ms/step - attr1_output_accuracy: 0.8690 - attr1_output_loss: 0.3896 - attr2_output_accuracy: 0.9830 - attr2_output_loss: 0.0573 - attr3_output_accuracy: 0.9482 - attr3_output_loss: 0.1354 - attr4_output_accuracy: 0.9312 - attr4_output_loss: 0.1890 - attr5_output_accuracy: 0.9481 - attr5_output_loss: 0.1463 - loss: 0.9176 - val_attr1_output_accuracy: 0.7515 - val_attr1_output_loss: 0.8556 - val_attr2_output_accuracy: 0.9692 - val_attr2_output_loss: 0.1159 - val_attr3_output_accuracy: 0.8938 - val_attr3_output_loss: 0.2855 - val_attr4_output_accuracy: 0.8562 - val_attr4_output_loss: 0.4280 - val_attr5_output_accuracy: 0.9138 - val_attr5_output_loss: 0.2690 - val_loss: 1.9352\n",
            "Epoch 8/10\n",
            "\u001b[1m82/82\u001b[0m \u001b[32m━━━━━━━━━━━━━━━━━━━━\u001b[0m\u001b[37m\u001b[0m \u001b[1m7s\u001b[0m 82ms/step - attr1_output_accuracy: 0.8581 - attr1_output_loss: 0.3948 - attr2_output_accuracy: 0.9835 - attr2_output_loss: 0.0529 - attr3_output_accuracy: 0.9575 - attr3_output_loss: 0.1174 - attr4_output_accuracy: 0.9348 - attr4_output_loss: 0.1800 - attr5_output_accuracy: 0.9450 - attr5_output_loss: 0.1423 - loss: 0.8872 - val_attr1_output_accuracy: 0.7392 - val_attr1_output_loss: 0.8637 - val_attr2_output_accuracy: 0.9700 - val_attr2_output_loss: 0.1080 - val_attr3_output_accuracy: 0.8923 - val_attr3_output_loss: 0.2867 - val_attr4_output_accuracy: 0.8546 - val_attr4_output_loss: 0.4168 - val_attr5_output_accuracy: 0.9146 - val_attr5_output_loss: 0.2624 - val_loss: 1.9154\n",
            "Epoch 9/10\n",
            "\u001b[1m82/82\u001b[0m \u001b[32m━━━━━━━━━━━━━━━━━━━━\u001b[0m\u001b[37m\u001b[0m \u001b[1m11s\u001b[0m 86ms/step - attr1_output_accuracy: 0.8747 - attr1_output_loss: 0.3695 - attr2_output_accuracy: 0.9856 - attr2_output_loss: 0.0450 - attr3_output_accuracy: 0.9570 - attr3_output_loss: 0.1153 - attr4_output_accuracy: 0.9377 - attr4_output_loss: 0.1727 - attr5_output_accuracy: 0.9430 - attr5_output_loss: 0.1515 - loss: 0.8540 - val_attr1_output_accuracy: 0.7238 - val_attr1_output_loss: 0.9047 - val_attr2_output_accuracy: 0.9708 - val_attr2_output_loss: 0.1101 - val_attr3_output_accuracy: 0.8969 - val_attr3_output_loss: 0.2948 - val_attr4_output_accuracy: 0.8615 - val_attr4_output_loss: 0.4220 - val_attr5_output_accuracy: 0.9085 - val_attr5_output_loss: 0.2739 - val_loss: 1.9891\n",
            "Epoch 10/10\n",
            "\u001b[1m82/82\u001b[0m \u001b[32m━━━━━━━━━━━━━━━━━━━━\u001b[0m\u001b[37m\u001b[0m \u001b[1m7s\u001b[0m 80ms/step - attr1_output_accuracy: 0.8644 - attr1_output_loss: 0.3555 - attr2_output_accuracy: 0.9852 - attr2_output_loss: 0.0466 - attr3_output_accuracy: 0.9525 - attr3_output_loss: 0.1203 - attr4_output_accuracy: 0.9320 - attr4_output_loss: 0.1827 - attr5_output_accuracy: 0.9488 - attr5_output_loss: 0.1402 - loss: 0.8453 - val_attr1_output_accuracy: 0.7292 - val_attr1_output_loss: 0.9196 - val_attr2_output_accuracy: 0.9654 - val_attr2_output_loss: 0.1244 - val_attr3_output_accuracy: 0.9046 - val_attr3_output_loss: 0.3124 - val_attr4_output_accuracy: 0.8585 - val_attr4_output_loss: 0.4444 - val_attr5_output_accuracy: 0.9085 - val_attr5_output_loss: 0.2871 - val_loss: 2.0686\n"
          ]
        },
        {
          "output_type": "execute_result",
          "data": {
            "text/plain": [
              "<keras.src.callbacks.history.History at 0x785d7245a6b0>"
            ]
          },
          "metadata": {},
          "execution_count": 38
        }
      ]
    },
    {
      "cell_type": "code",
      "source": [
        "tshirt.save('tshirt_model.keras')"
      ],
      "metadata": {
        "id": "9T7cH4Gro9ZO"
      },
      "execution_count": 39,
      "outputs": []
    },
    {
      "cell_type": "code",
      "source": [
        "from sklearn.preprocessing import LabelEncoder\n",
        "\n",
        "# Assuming these are the LabelEncoders used during encoding\n",
        "attr1_encoder = LabelEncoder()\n",
        "attr2_encoder = LabelEncoder()\n",
        "attr3_encoder = LabelEncoder()\n",
        "attr4_encoder = LabelEncoder()\n",
        "attr5_encoder = LabelEncoder()\n",
        "\n",
        "# Fit the encoders with the classes if not already done (replace with actual classes)\n",
        "attr1_encoder.fit(y1_train_attr1)\n",
        "attr2_encoder.fit(y1_train_attr2)\n",
        "attr3_encoder.fit(y1_train_attr3)\n",
        "attr4_encoder.fit(y1_train_attr4)\n",
        "attr5_encoder.fit(y1_train_attr5)\n",
        "\n",
        "predictions = []\n",
        "\n",
        "# Get model predictions for all attributes\n",
        "pred_attr1, pred_attr2, pred_attr3, pred_attr4, pred_attr5 = tshirt.predict(X1_val)\n",
        "\n",
        "# Iterate over each sample and decode predictions\n",
        "for i in range(len(X1_val)):\n",
        "    predicted_attr1_label = attr1_encoder.inverse_transform([np.argmax(pred_attr1[i], axis=0)])[0]\n",
        "    predicted_attr2_label = attr2_encoder.inverse_transform([np.argmax(pred_attr2[i], axis=0)])[0]\n",
        "    predicted_attr3_label = attr3_encoder.inverse_transform([np.argmax(pred_attr3[i], axis=0)])[0]\n",
        "    predicted_attr4_label = attr4_encoder.inverse_transform([np.argmax(pred_attr4[i], axis=0)])[0]\n",
        "    predicted_attr5_label = attr5_encoder.inverse_transform([np.argmax(pred_attr5[i], axis=0)])[0]\n",
        "\n",
        "    predictions.append((\n",
        "        predicted_attr1_label,\n",
        "        predicted_attr2_label,\n",
        "        predicted_attr3_label,\n",
        "        predicted_attr4_label,\n",
        "        predicted_attr5_label\n",
        "    ))\n",
        "\n",
        "# Convert predictions to a DataFrame\n",
        "predictions_df = pd.DataFrame(predictions, columns=[\n",
        "    \"Attribute 1\", \"Attribute 2\", \"Attribute 3\", \"Attribute 4\", \"Attribute 5\"\n",
        "])\n",
        "\n",
        "# Preview the DataFrame\n",
        "print(predictions_df.head())\n"
      ],
      "metadata": {
        "colab": {
          "base_uri": "https://localhost:8080/"
        },
        "id": "cHTCe68GrMIW",
        "outputId": "9deb53da-1781-4af4-c139-b17d41700d93"
      },
      "execution_count": 40,
      "outputs": [
        {
          "output_type": "stream",
          "name": "stdout",
          "text": [
            "\u001b[1m41/41\u001b[0m \u001b[32m━━━━━━━━━━━━━━━━━━━━\u001b[0m\u001b[37m\u001b[0m \u001b[1m3s\u001b[0m 31ms/step\n",
            "   Attribute 1  Attribute 2  Attribute 3  Attribute 4  Attribute 5\n",
            "0          0.0          1.0          1.0          1.0          0.0\n",
            "1          3.0          0.0          0.0          0.0          0.0\n",
            "2          0.0          1.0          1.0          1.0          0.0\n",
            "3          3.0          0.0          1.0          0.0          0.0\n",
            "4          1.0          0.0          0.0          1.0          1.0\n"
          ]
        }
      ]
    },
    {
      "cell_type": "code",
      "source": [
        "from sklearn.metrics import f1_score\n",
        "\n",
        "# Initialize lists to store attribute-wise scores\n",
        "micro_f1_scores = []\n",
        "macro_f1_scores = []\n",
        "\n",
        "# Iterate through each attribute's ground truth and predictions\n",
        "for i, (y_true_attr, y_pred_attr) in enumerate(zip(\n",
        "        [y1_val_attr1, y1_val_attr2, y1_val_attr3, y1_val_attr4, y1_val_attr5],\n",
        "        [predictions_df[\"Attribute 1\"],\n",
        "         predictions_df[\"Attribute 2\"],\n",
        "         predictions_df[\"Attribute 3\"],\n",
        "         predictions_df[\"Attribute 4\"],\n",
        "         predictions_df[\"Attribute 5\"]])):\n",
        "\n",
        "    # Calculate F1-scores for this attribute\n",
        "    micro_f1 = f1_score(y_true_attr, y_pred_attr, average='micro')\n",
        "    macro_f1 = f1_score(y_true_attr, y_pred_attr, average='macro')\n",
        "\n",
        "    # Store the results\n",
        "    micro_f1_scores.append(micro_f1)\n",
        "    macro_f1_scores.append(macro_f1)\n",
        "\n",
        "\n",
        "# Print overall summary\n",
        "print(\"\\nSummary of Attribute-Wise F1-Scores:\")\n",
        "for i in range(len(micro_f1_scores)):\n",
        "    print(f\"Attribute {i + 1}: Micro F1 = {micro_f1_scores[i]:.4f}, Macro F1 = {macro_f1_scores[i]:.4f}\")\n"
      ],
      "metadata": {
        "colab": {
          "base_uri": "https://localhost:8080/"
        },
        "id": "CsRbcVVGrmjK",
        "outputId": "705b53ca-2d62-4ee7-abb7-b3d3e22a10d5"
      },
      "execution_count": 41,
      "outputs": [
        {
          "output_type": "stream",
          "name": "stdout",
          "text": [
            "\n",
            "Summary of Attribute-Wise F1-Scores:\n",
            "Attribute 1: Micro F1 = 0.7292, Macro F1 = 0.6931\n",
            "Attribute 2: Micro F1 = 0.9654, Macro F1 = 0.9653\n",
            "Attribute 3: Micro F1 = 0.9046, Macro F1 = 0.8967\n",
            "Attribute 4: Micro F1 = 0.8585, Macro F1 = 0.8093\n",
            "Attribute 5: Micro F1 = 0.9085, Macro F1 = 0.8274\n"
          ]
        }
      ]
    },
    {
      "cell_type": "code",
      "source": [
        "test = pd.read_csv('/content/test.csv')"
      ],
      "metadata": {
        "id": "jj7Zwnmbr0C0"
      },
      "execution_count": 42,
      "outputs": []
    },
    {
      "cell_type": "code",
      "source": [
        "test['len'] =0"
      ],
      "metadata": {
        "id": "AjknSd0ysCRZ"
      },
      "execution_count": 43,
      "outputs": []
    },
    {
      "cell_type": "code",
      "source": [
        "for i in range(1, 11):\n",
        "       test[f'attr_{i}'] = 'dummy_value'  # Replace 'default' with appropriate logic"
      ],
      "metadata": {
        "id": "B2UTPdJhsEwB"
      },
      "execution_count": 44,
      "outputs": []
    },
    {
      "cell_type": "code",
      "source": [
        "import os\n",
        "import cv2\n",
        "import numpy as np\n",
        "import pandas as pd\n",
        "import matplotlib.pyplot as plt\n",
        "\n",
        "# Define the class labels for attr_1 to attr_5\n",
        "attr1_classes =['default', 'multicolor', 'black', 'white', 'dummy_value']\n",
        "\n",
        "# (Define class labels for attr_2, attr_3, attr_4, and attr_5 if applicable)\n",
        "# Example placeholders:\n",
        "attr2_classes = ['round', 'polo']  # Replace with actual classes\n",
        "attr3_classes = ['printed', 'solid']  # Replace with actual classes\n",
        "attr4_classes = ['default', 'solid', 'typography']     # Replace with actual classes\n",
        "attr5_classes = ['short sleeves', 'long sleeves']  # Replace with actual classes\n",
        "\n",
        "# Set the directory for test images\n",
        "test_image_dir = '/kaggle/input/test-croped-tshirt-images'  # Adjust this path as necessary\n",
        "\n",
        "# Load test data from CSV\n",
        "test_csv_path = '/kaggle/input/visual-taxonomy/test.csv'  # Adjust this path as necessary\n",
        "df = pd.read_csv(test_csv_path)\n",
        "\n",
        "# Check if the DataFrame contains the expected columns\n",
        "print(df.head())  # Debugging output\n",
        "\n",
        "# Get the first 50 entries\n",
        "df_sample = df.head(3787)\n",
        "\n",
        "# Prepare a list to hold the images and predictions\n",
        "predictions = []\n",
        "\n",
        "# Loop through the first 50 images\n",
        "for index, row in df_sample.iterrows():\n",
        "    image_file = str(row['id'])  # Assuming the CSV has an 'id' column\n",
        "\n",
        "    image_file = f\"{int(row['id']):06}.jpg\"\n",
        "    image_path = os.path.join(test_image_dir, image_file)\n",
        "\n",
        "\n",
        "    # Check if the image exists\n",
        "    if not os.path.exists(image_path):\n",
        "        print(f\"Image not found: {image_path}\")\n",
        "        continue\n",
        "\n",
        "    # Load and preprocess the image\n",
        "    test_img = cv2.imread(image_path)\n",
        "    if test_img is None:\n",
        "        print(f\"Failed to load image: {image_path}\")\n",
        "        continue\n",
        "\n",
        "    # Resize and reshape the image\n",
        "    test_img_resized = cv2.resize(test_img, (128, 128))\n",
        "    test_input = test_img_resized.reshape((1, 128, 128, 3)) / 255.0  # Normalize\n",
        "\n",
        "    # Make predictions\n",
        "    pred_attr1, pred_attr2, pred_attr3, pred_attr4, pred_attr5 = Tshirt.predict(test_input)\n",
        "    predicted_attr1_index = np.argmax(pred_attr1, axis=1)[0]\n",
        "    predicted_attr2_index = np.argmax(pred_attr2, axis=1)[0]\n",
        "    predicted_attr3_index = np.argmax(pred_attr3, axis=1)[0]\n",
        "    predicted_attr4_index = np.argmax(pred_attr4, axis=1)[0]\n",
        "    predicted_attr5_index = np.argmax(pred_attr5, axis=1)[0]\n",
        "\n",
        "    # Store the prediction along with the filename\n",
        "    predictions.append((image_file,\n",
        "                        attr1_classes[predicted_attr1_index],\n",
        "                        attr2_classes[predicted_attr2_index],\n",
        "                        attr3_classes[predicted_attr3_index],\n",
        "                        attr4_classes[predicted_attr4_index],\n",
        "                        attr5_classes[predicted_attr5_index]))\n",
        "    test.loc[index, 'attr_1'] = attr1_classes[predicted_attr1_index]\n",
        "    test.loc[index, 'attr_2'] = attr2_classes[predicted_attr2_index]\n",
        "    test.loc[index, 'attr_3'] = attr3_classes[predicted_attr3_index]\n",
        "    test.loc[index, 'attr_4'] = attr4_classes[predicted_attr4_index]\n",
        "    test.loc[index, 'attr_5'] = attr5_classes[predicted_attr5_index]\n",
        "    test.loc[index, 'len'] = 5\n",
        "\n",
        "# Convert the predictions to a DataFrame\n",
        "predictions_df = pd.DataFrame(predictions, columns=['id', 'attr_1', 'attr_2', 'attr_3', 'attr_4', 'attr_5'])"
      ],
      "metadata": {
        "id": "4GH49kp2sJOW"
      },
      "execution_count": null,
      "outputs": []
    },
    {
      "cell_type": "code",
      "source": [
        "test.to_csv('s1.csv',index=False)"
      ],
      "metadata": {
        "id": "5LKJxonswVaT"
      },
      "execution_count": null,
      "outputs": []
    }
  ]
}